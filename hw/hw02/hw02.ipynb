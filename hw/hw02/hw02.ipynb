{
 "cells": [
  {
   "cell_type": "raw",
   "id": "fbe63128",
   "metadata": {},
   "source": [
    "# ASSIGNMENT CONFIG\n",
    "init_cell: true \n",
    "export_cell: true \n",
    "files:\n",
    "    - world_population.csv\n",
    "    - array_diff.png\n",
    "    - array_cumsum.png\n",
    "    - temperatures.csv\n",
    "    - old_faithful.csv\n",
    "    - inventory.csv\n",
    "    - sales.csv\n",
    "    - president_births.csv\n",
    "    - d8error.py\n",
    "    - errorConfig.json\n",
    "export_cell:\n",
    "    pdf: false\n",
    "    force_save: false\n",
    "solutions_pdf: true\n",
    "template_pdf: false\n",
    "generate:\n",
    "    points_possible: 100.0\n",
    "    show_stdout: true\n",
    "    filtering: true\n",
    "    pagebreaks: true\n",
    "    zips: false"
   ]
  },
  {
   "cell_type": "markdown",
   "id": "fa029d89",
   "metadata": {},
   "source": [
    "# Homework 2: Arrays and Tables\n",
    "\n",
    "Please complete this notebook by filling in the cells provided. Before you begin, execute the previous cell to load the provided tests."
   ]
  },
  {
   "cell_type": "code",
   "execution_count": 94,
   "id": "1bb8406e",
   "metadata": {
    "execution": {
     "iopub.execute_input": "2022-01-27T05:12:41.675421Z",
     "iopub.status.busy": "2022-01-27T05:12:41.674519Z",
     "iopub.status.idle": "2022-01-27T05:12:42.207153Z",
     "shell.execute_reply": "2022-01-27T05:12:42.207769Z"
    }
   },
   "outputs": [],
   "source": [
    "# Run this cell and ignore the output. It is checking to see if you ran the first cell! \n",
    "# If you get a NameError, please run the cell at the very TOP of this notebook!\n",
    "\n",
    "#grader"
   ]
  },
  {
   "cell_type": "markdown",
   "id": "6dac4e26",
   "metadata": {},
   "source": [
    "**Helpful Resource:**\n",
    "- [Python Reference](http://data8.org/sp22/python-reference.html): Cheat sheet of helpful array & table methods used in Data 8!\n",
    "\n",
    "**Recommended Readings:**\n",
    "- [Arrays](https://inferentialthinking.com/chapters/05/1/Arrays.html)\n",
    "- [What is Data Science?](http://www.inferentialthinking.com/chapters/01/what-is-data-science.html)\n",
    "- [Causality and Experiments](http://www.inferentialthinking.com/chapters/02/causality-and-experiments.html) \n",
    "- [Programming in Python](http://www.inferentialthinking.com/chapters/03/programming-in-python.html)\n",
    "\n",
    "For all problems that you must write explanations and sentences for, you **must** provide your answer in the designated space. Moreover, throughout this homework and all future ones, **please be sure to not re-assign variables throughout the notebook!** For example, if you use `max_temperature` in your answer to one question, do not reassign it later on. Otherwise, you will fail tests that you thought you were passing previously!\n",
    "\n",
    "\n",
    "**Note: This homework has hidden tests on it. That means even though tests may say 100% passed, it doesn't mean your final grade will be 100%. We will be running more tests for correctness once everyone turns in the homework.**\n",
    "\n",
    "Directly sharing answers is not okay, but discussing problems with the course staff or with other students is encouraged. Refer to the policies page to learn more about how to learn cooperatively.\n",
    "\n",
    "You should start early so that you have time to get help if you're stuck."
   ]
  },
  {
   "cell_type": "markdown",
   "id": "6e81baf7",
   "metadata": {},
   "source": [
    "## 1. Creating Arrays"
   ]
  },
  {
   "cell_type": "code",
   "execution_count": 95,
   "id": "67beee67",
   "metadata": {
    "execution": {
     "iopub.execute_input": "2022-01-27T05:12:42.214263Z",
     "iopub.status.busy": "2022-01-27T05:12:42.213475Z",
     "iopub.status.idle": "2022-01-27T05:12:43.829444Z",
     "shell.execute_reply": "2022-01-27T05:12:43.828774Z"
    }
   },
   "outputs": [],
   "source": [
    "# Run this cell to set up the notebook, but please don't change it.\n",
    "\n",
    "import numpy as np\n",
    "from datascience import *\n",
    "import d8error\n",
    "import warnings\n",
    "warnings.simplefilter('ignore', FutureWarning)"
   ]
  },
  {
   "cell_type": "raw",
   "id": "4172b6f4",
   "metadata": {},
   "source": [
    "# BEGIN QUESTION\n",
    "name: q1_1\n",
    "points:\n",
    " - 0\n",
    " - 0\n",
    " - 4"
   ]
  },
  {
   "cell_type": "markdown",
   "id": "96ab5135",
   "metadata": {},
   "source": [
    "**Question 1.** Create an array called `strange_numbers` containing the following numbers (in the given order) **(4 Points)**:\n",
    "\n",
    "1. `pi`\n",
    "2. the floor of 25\n",
    "3. the floor of `pi`\n",
    "4. 10 plus the ceil of 8.3\n",
    "\n",
    "*Hint:* `floor`, `ceil`, and `pi`  are functions in the `math` module. Importing modules is covered in Lab 2!\n",
    "\n",
    "*Note:* Python lists are different/behave differently than NumPy arrays. In Math118, we use NumPy arrays, so please make an **array**, not a Python list.\n"
   ]
  },
  {
   "cell_type": "raw",
   "id": "434d6b5c",
   "metadata": {},
   "source": [
    "# BEGIN SOLUTION"
   ]
  },
  {
   "cell_type": "code",
   "execution_count": 96,
   "id": "195cde35",
   "metadata": {
    "execution": {
     "iopub.execute_input": "2022-01-27T05:12:43.843194Z",
     "iopub.status.busy": "2022-01-27T05:12:43.842594Z",
     "iopub.status.idle": "2022-01-27T05:12:43.846666Z",
     "shell.execute_reply": "2022-01-27T05:12:43.846080Z"
    }
   },
   "outputs": [
    {
     "data": {
      "text/plain": [
       "array([  3.14159265,  25.        ,   3.        ,  19.        ])"
      ]
     },
     "execution_count": 96,
     "metadata": {},
     "output_type": "execute_result"
    }
   ],
   "source": [
    "# Our solution involved one extra line of code before creating\n",
    "# strange_numbers.\n",
    "import math #SOLUTION\n",
    "strange_numbers = make_array(math.pi, math.floor(25), math.floor(math.pi), 10 + math.ceil(8.3)) #SOLUTION\n",
    "strange_numbers"
   ]
  },
  {
   "cell_type": "raw",
   "id": "ef5eb38c",
   "metadata": {},
   "source": [
    "# END SOLUTION"
   ]
  },
  {
   "cell_type": "raw",
   "id": "00f4224a",
   "metadata": {},
   "source": [
    "# BEGIN TESTS"
   ]
  },
  {
   "cell_type": "code",
   "execution_count": 97,
   "id": "11dc40df",
   "metadata": {
    "execution": {
     "iopub.execute_input": "2022-01-27T05:12:43.852187Z",
     "iopub.status.busy": "2022-01-27T05:12:43.851653Z",
     "iopub.status.idle": "2022-01-27T05:12:43.855964Z",
     "shell.execute_reply": "2022-01-27T05:12:43.855307Z"
    }
   },
   "outputs": [
    {
     "data": {
      "text/plain": [
       "True"
      ]
     },
     "execution_count": 97,
     "metadata": {},
     "output_type": "execute_result"
    }
   ],
   "source": [
    "import numpy as np\n",
    "# It looks like you didn't make an array.\n",
    "type(strange_numbers) == np.ndarray"
   ]
  },
  {
   "cell_type": "code",
   "execution_count": 98,
   "id": "f2bec6cb",
   "metadata": {
    "execution": {
     "iopub.execute_input": "2022-01-27T05:12:43.861108Z",
     "iopub.status.busy": "2022-01-27T05:12:43.860471Z",
     "iopub.status.idle": "2022-01-27T05:12:43.864191Z",
     "shell.execute_reply": "2022-01-27T05:12:43.863766Z"
    }
   },
   "outputs": [
    {
     "data": {
      "text/plain": [
       "True"
      ]
     },
     "execution_count": 98,
     "metadata": {},
     "output_type": "execute_result"
    }
   ],
   "source": [
    "len(strange_numbers) == 4"
   ]
  },
  {
   "cell_type": "code",
   "execution_count": 99,
   "id": "e5a53791",
   "metadata": {
    "deletable": false,
    "execution": {
     "iopub.execute_input": "2022-01-27T05:12:43.869547Z",
     "iopub.status.busy": "2022-01-27T05:12:43.868929Z",
     "iopub.status.idle": "2022-01-27T05:12:43.873170Z",
     "shell.execute_reply": "2022-01-27T05:12:43.872448Z"
    }
   },
   "outputs": [
    {
     "data": {
      "text/plain": [
       "True"
      ]
     },
     "execution_count": 99,
     "metadata": {},
     "output_type": "execute_result"
    }
   ],
   "source": [
    "# HIDDEN\n",
    "np.allclose(strange_numbers, np.array([   3.14159265,    25,     3, 19]), rtol=1e-03, atol=1e-03)"
   ]
  },
  {
   "cell_type": "raw",
   "id": "3b7b4d00",
   "metadata": {},
   "source": [
    "# END TESTS"
   ]
  },
  {
   "cell_type": "raw",
   "id": "ae3eb037",
   "metadata": {},
   "source": [
    "# END QUESTION"
   ]
  },
  {
   "cell_type": "raw",
   "id": "5d123953",
   "metadata": {},
   "source": [
    "# BEGIN QUESTION\n",
    "name: q1_2\n",
    "points:\n",
    " - 0\n",
    " - 0\n",
    " - 0\n",
    " - 0\n",
    " - 4"
   ]
  },
  {
   "cell_type": "markdown",
   "id": "0ae95ef7",
   "metadata": {},
   "source": [
    "**Question 2.** Make an array called `anime_characters` containing the following three strings: \"Naruto\", \"Sasuke\", and \"and Sakura\". **(4 Points)**\n"
   ]
  },
  {
   "cell_type": "raw",
   "id": "adfded73",
   "metadata": {},
   "source": [
    "# BEGIN SOLUTION"
   ]
  },
  {
   "cell_type": "code",
   "execution_count": 100,
   "id": "c51414b6",
   "metadata": {
    "execution": {
     "iopub.execute_input": "2022-01-27T05:12:43.880231Z",
     "iopub.status.busy": "2022-01-27T05:12:43.876841Z",
     "iopub.status.idle": "2022-01-27T05:12:43.883885Z",
     "shell.execute_reply": "2022-01-27T05:12:43.884487Z"
    }
   },
   "outputs": [
    {
     "data": {
      "text/plain": [
       "array(['Naruto', 'Sasuke', 'and Sakura'],\n",
       "      dtype='<U10')"
      ]
     },
     "execution_count": 100,
     "metadata": {},
     "output_type": "execute_result"
    }
   ],
   "source": [
    "anime_characters = make_array(\"Naruto\", \"Sasuke\", \"and Sakura\") #SOLUTION\n",
    "anime_characters"
   ]
  },
  {
   "cell_type": "raw",
   "id": "80513537",
   "metadata": {},
   "source": [
    "# END SOLUTION"
   ]
  },
  {
   "cell_type": "raw",
   "id": "c47e9f53",
   "metadata": {},
   "source": [
    "# BEGIN TESTS"
   ]
  },
  {
   "cell_type": "code",
   "execution_count": 101,
   "id": "7f782e05",
   "metadata": {
    "execution": {
     "iopub.execute_input": "2022-01-27T05:12:43.889852Z",
     "iopub.status.busy": "2022-01-27T05:12:43.889274Z",
     "iopub.status.idle": "2022-01-27T05:12:43.926243Z",
     "shell.execute_reply": "2022-01-27T05:12:43.893029Z"
    }
   },
   "outputs": [
    {
     "data": {
      "text/plain": [
       "True"
      ]
     },
     "execution_count": 101,
     "metadata": {},
     "output_type": "execute_result"
    }
   ],
   "source": [
    "import numpy as np\n",
    "# It looks like you didn't make an array.\n",
    "type(anime_characters) == np.ndarray"
   ]
  },
  {
   "cell_type": "code",
   "execution_count": 102,
   "id": "534f997f",
   "metadata": {
    "deletable": false,
    "execution": {
     "iopub.execute_input": "2022-01-27T05:12:43.932267Z",
     "iopub.status.busy": "2022-01-27T05:12:43.931728Z",
     "iopub.status.idle": "2022-01-27T05:12:43.936011Z",
     "shell.execute_reply": "2022-01-27T05:12:43.935468Z"
    }
   },
   "outputs": [
    {
     "data": {
      "text/plain": [
       "True"
      ]
     },
     "execution_count": 102,
     "metadata": {},
     "output_type": "execute_result"
    }
   ],
   "source": [
    "# It looks like you included commas in the text.\n",
    "# The three pieces of text in the array should be:\n",
    "#   \"Naruto\"\n",
    "#   \"Sasuke\"\n",
    "#   \"and Sakura\"\n",
    "not any([',' in text for text in anime_characters])"
   ]
  },
  {
   "cell_type": "code",
   "execution_count": 103,
   "id": "2a28dadf",
   "metadata": {
    "execution": {
     "iopub.execute_input": "2022-01-27T05:12:43.940860Z",
     "iopub.status.busy": "2022-01-27T05:12:43.940235Z",
     "iopub.status.idle": "2022-01-27T05:12:43.944907Z",
     "shell.execute_reply": "2022-01-27T05:12:43.944433Z"
    }
   },
   "outputs": [
    {
     "data": {
      "text/plain": [
       "True"
      ]
     },
     "execution_count": 103,
     "metadata": {},
     "output_type": "execute_result"
    }
   ],
   "source": [
    "# It looks like you didn't include both words in the\n",
    "# last piece of text.  It should be the actual string:\n",
    "#   \"and Sakura\"\n",
    "'and ' in anime_characters.item(2)"
   ]
  },
  {
   "cell_type": "code",
   "execution_count": 104,
   "id": "609167a6",
   "metadata": {
    "execution": {
     "iopub.execute_input": "2022-01-27T05:12:43.949597Z",
     "iopub.status.busy": "2022-01-27T05:12:43.949039Z",
     "iopub.status.idle": "2022-01-27T05:12:43.954118Z",
     "shell.execute_reply": "2022-01-27T05:12:43.953598Z"
    }
   },
   "outputs": [
    {
     "data": {
      "text/plain": [
       "3"
      ]
     },
     "execution_count": 104,
     "metadata": {},
     "output_type": "execute_result"
    }
   ],
   "source": [
    "len(anime_characters)"
   ]
  },
  {
   "cell_type": "code",
   "execution_count": 105,
   "id": "73ce9351",
   "metadata": {
    "execution": {
     "iopub.execute_input": "2022-01-27T05:12:43.960757Z",
     "iopub.status.busy": "2022-01-27T05:12:43.960077Z",
     "iopub.status.idle": "2022-01-27T05:12:43.963956Z",
     "shell.execute_reply": "2022-01-27T05:12:43.963303Z"
    }
   },
   "outputs": [
    {
     "data": {
      "text/plain": [
       "True"
      ]
     },
     "execution_count": 105,
     "metadata": {},
     "output_type": "execute_result"
    }
   ],
   "source": [
    "anime_characters.item(0) == 'Naruto' and anime_characters.item(1) == 'Sasuke' and anime_characters.item(2) == 'and Sakura'"
   ]
  },
  {
   "cell_type": "raw",
   "id": "902ff553",
   "metadata": {},
   "source": [
    "# END TESTS"
   ]
  },
  {
   "cell_type": "raw",
   "id": "85e832cd",
   "metadata": {},
   "source": [
    "# END QUESTION"
   ]
  },
  {
   "cell_type": "raw",
   "id": "1f6b6b93",
   "metadata": {},
   "source": [
    "# BEGIN QUESTION\n",
    "name: q1_3\n",
    "points:\n",
    " - 2\n",
    " - 2"
   ]
  },
  {
   "cell_type": "markdown",
   "id": "a807367e",
   "metadata": {},
   "source": [
    "Strings have a method called `join`.  `join` takes one argument, an array of strings.  It returns a single string.  Specifically, the value of `a_string.join(an_array)` is a single string that's the [concatenation](https://en.wikipedia.org/wiki/Concatenation) (\"putting together\") of all the strings in `an_array`, **except** `a_string` is inserted in between each string.\n",
    "\n",
    "**Question 3.** Use the array `anime_characters` and the method `join` to make two strings **(4 Points)**:\n",
    "\n",
    "1. \"Naruto, Sasuke, and Sakura\" (call this one `with_commas`)\n",
    "2. \"Naruto Sasuke and Sakura\" (call this one `without_commas`)\n",
    "\n",
    "*Hint:* If you're not sure what `join` does, first try just calling, for example, `\"math118\".join(anime_characters)` .\n"
   ]
  },
  {
   "cell_type": "raw",
   "id": "829b81ab",
   "metadata": {},
   "source": [
    "# BEGIN SOLUTION "
   ]
  },
  {
   "cell_type": "code",
   "execution_count": 106,
   "id": "52b551cb",
   "metadata": {
    "execution": {
     "iopub.execute_input": "2022-01-27T05:12:43.969569Z",
     "iopub.status.busy": "2022-01-27T05:12:43.968984Z",
     "iopub.status.idle": "2022-01-27T05:12:43.972188Z",
     "shell.execute_reply": "2022-01-27T05:12:43.972636Z"
    }
   },
   "outputs": [
    {
     "name": "stdout",
     "output_type": "stream",
     "text": [
      "with_commas: Naruto, Sasuke, and Sakura\n",
      "without_commas: Naruto Sasuke and Sakura\n"
     ]
    }
   ],
   "source": [
    "with_commas = \", \".join(anime_characters) #SOLUTION\n",
    "without_commas = \" \".join(anime_characters) #SOLUTION\n",
    "\n",
    "# These lines are provided just to print out your answers.\n",
    "print('with_commas:', with_commas)\n",
    "print('without_commas:', without_commas)"
   ]
  },
  {
   "cell_type": "raw",
   "id": "d0a0a83b",
   "metadata": {},
   "source": [
    "# END SOLUTION"
   ]
  },
  {
   "cell_type": "raw",
   "id": "5b9f6387",
   "metadata": {},
   "source": [
    "# BEGIN TESTS"
   ]
  },
  {
   "cell_type": "code",
   "execution_count": 107,
   "id": "72d43f32",
   "metadata": {
    "deletable": false,
    "execution": {
     "iopub.execute_input": "2022-01-27T05:12:43.978255Z",
     "iopub.status.busy": "2022-01-27T05:12:43.977128Z",
     "iopub.status.idle": "2022-01-27T05:12:43.981455Z",
     "shell.execute_reply": "2022-01-27T05:12:43.980948Z"
    }
   },
   "outputs": [
    {
     "data": {
      "text/plain": [
       "True"
      ]
     },
     "execution_count": 107,
     "metadata": {},
     "output_type": "execute_result"
    }
   ],
   "source": [
    "with_commas == 'Naruto, Sasuke, and Sakura'"
   ]
  },
  {
   "cell_type": "code",
   "execution_count": 108,
   "id": "7aaae7fc",
   "metadata": {
    "execution": {
     "iopub.execute_input": "2022-01-27T05:12:43.987402Z",
     "iopub.status.busy": "2022-01-27T05:12:43.986821Z",
     "iopub.status.idle": "2022-01-27T05:12:43.990991Z",
     "shell.execute_reply": "2022-01-27T05:12:43.990538Z"
    }
   },
   "outputs": [
    {
     "data": {
      "text/plain": [
       "True"
      ]
     },
     "execution_count": 108,
     "metadata": {},
     "output_type": "execute_result"
    }
   ],
   "source": [
    "without_commas == 'Naruto Sasuke and Sakura'"
   ]
  },
  {
   "cell_type": "raw",
   "id": "64c7827a",
   "metadata": {},
   "source": [
    "# END TESTS"
   ]
  },
  {
   "cell_type": "raw",
   "id": "e25e83eb",
   "metadata": {},
   "source": [
    "# END QUESTION"
   ]
  },
  {
   "cell_type": "markdown",
   "id": "e4d69a75",
   "metadata": {},
   "source": [
    "## 2. Indexing Arrays"
   ]
  },
  {
   "cell_type": "markdown",
   "id": "7f02b880",
   "metadata": {},
   "source": [
    "These exercises give you practice accessing individual elements of arrays.  In Python (and in many programming languages), each element is accessed by its *index*; for example, the first element is the element at index 0. Indices must be **integers**.\n",
    "\n",
    "***Note:* If you have previous coding experience, you may be familiar with bracket notation. DO NOT use bracket notation when indexing (i.e. `arr[0]`), as this can yield different data type outputs than what we will be expecting. This can cause you to fail an autograder test.**\n",
    "\n",
    "Be sure to refer to the [Python Reference](http://data8.org/sp22/python-reference.html) on the website if you feel stuck!"
   ]
  },
  {
   "cell_type": "raw",
   "id": "ea796799",
   "metadata": {},
   "source": [
    "# BEGIN QUESTION\n",
    "name: q2_1\n",
    "points:\n",
    " - 0\n",
    " - 4"
   ]
  },
  {
   "cell_type": "markdown",
   "id": "9ee04e4a",
   "metadata": {},
   "source": [
    "**Question 1.** The cell below creates an array of some numbers.  Set `fourth_element` to the third element of `random_numbers`. **(4 Points)**\n"
   ]
  },
  {
   "cell_type": "raw",
   "id": "a730ec59",
   "metadata": {},
   "source": [
    "# BEGIN SOLUTION"
   ]
  },
  {
   "cell_type": "code",
   "execution_count": 109,
   "id": "c7286649",
   "metadata": {
    "execution": {
     "iopub.execute_input": "2022-01-27T05:12:44.030858Z",
     "iopub.status.busy": "2022-01-27T05:12:44.030096Z",
     "iopub.status.idle": "2022-01-27T05:12:44.034640Z",
     "shell.execute_reply": "2022-01-27T05:12:44.034125Z"
    }
   },
   "outputs": [
    {
     "data": {
      "text/plain": [
       "-6"
      ]
     },
     "execution_count": 109,
     "metadata": {},
     "output_type": "execute_result"
    }
   ],
   "source": [
    "random_numbers = make_array(-2, -4, -6, -10, -16)\n",
    "\n",
    "fourth_element = random_numbers.item(2) #SOLUTION\n",
    "fourth_element"
   ]
  },
  {
   "cell_type": "raw",
   "id": "46a6c10d",
   "metadata": {},
   "source": [
    "# END SOLUTION"
   ]
  },
  {
   "cell_type": "raw",
   "id": "2c961089",
   "metadata": {},
   "source": [
    "# BEGIN TESTS"
   ]
  },
  {
   "cell_type": "code",
   "execution_count": 110,
   "id": "087c45c5",
   "metadata": {
    "deletable": false,
    "execution": {
     "iopub.execute_input": "2022-01-27T05:12:44.039647Z",
     "iopub.status.busy": "2022-01-27T05:12:44.039012Z",
     "iopub.status.idle": "2022-01-27T05:12:44.042639Z",
     "shell.execute_reply": "2022-01-27T05:12:44.043263Z"
    }
   },
   "outputs": [
    {
     "data": {
      "text/plain": [
       "False"
      ]
     },
     "execution_count": 110,
     "metadata": {},
     "output_type": "execute_result"
    }
   ],
   "source": [
    "# It looks like you wrote:\n",
    "#   some_numbers.item(3)\n",
    "# But the fourth element has index 3, not 4.\n",
    "fourth_element != -6"
   ]
  },
  {
   "cell_type": "code",
   "execution_count": 111,
   "id": "4a0a4d75",
   "metadata": {
    "execution": {
     "iopub.execute_input": "2022-01-27T05:12:44.048798Z",
     "iopub.status.busy": "2022-01-27T05:12:44.047957Z",
     "iopub.status.idle": "2022-01-27T05:12:44.052314Z",
     "shell.execute_reply": "2022-01-27T05:12:44.052863Z"
    }
   },
   "outputs": [
    {
     "data": {
      "text/plain": [
       "False"
      ]
     },
     "execution_count": 111,
     "metadata": {},
     "output_type": "execute_result"
    }
   ],
   "source": [
    "fourth_element == -10"
   ]
  },
  {
   "cell_type": "raw",
   "id": "38d8cf58",
   "metadata": {},
   "source": [
    "# END TESTS"
   ]
  },
  {
   "cell_type": "raw",
   "id": "10f4e089",
   "metadata": {},
   "source": [
    "# END QUESTION"
   ]
  },
  {
   "cell_type": "raw",
   "id": "0f602864",
   "metadata": {},
   "source": [
    "# BEGIN QUESTION\n",
    "name: q2_2\n",
    "points:\n",
    " - 1\n",
    " - 1\n",
    " - 1\n",
    " - 1"
   ]
  },
  {
   "cell_type": "markdown",
   "id": "5809b4a3",
   "metadata": {},
   "source": [
    "**Question 2.** The next cell creates a table that displays some information about the elements of `random_numbers` and their order.  Run the cell to see the partially-completed table, then fill in the missing information (the cells that say \"Ellipsis\") by assigning `blank_a`, `blank_b`, `blank_c`, and `blank_d` to the correct elements in the table. **(4 Points)**\n",
    "\n",
    "*Hint:* Replace the `...` with strings or numbers. As a reminder, indices should be **integers**.\n"
   ]
  },
  {
   "cell_type": "raw",
   "id": "7f28a175",
   "metadata": {},
   "source": [
    "# BEGIN SOLUTION"
   ]
  },
  {
   "cell_type": "code",
   "execution_count": 112,
   "id": "35f78c02",
   "metadata": {
    "execution": {
     "iopub.execute_input": "2022-01-27T05:12:44.060267Z",
     "iopub.status.busy": "2022-01-27T05:12:44.059680Z",
     "iopub.status.idle": "2022-01-27T05:12:44.064113Z",
     "shell.execute_reply": "2022-01-27T05:12:44.063532Z"
    },
    "for_assignment_type": "student"
   },
   "outputs": [
    {
     "data": {
      "text/html": [
       "<table border=\"1\" class=\"dataframe\">\n",
       "    <thead>\n",
       "        <tr>\n",
       "            <th>English name for position</th> <th>Index</th> <th>Element</th>\n",
       "        </tr>\n",
       "    </thead>\n",
       "    <tbody>\n",
       "        <tr>\n",
       "            <td>first                    </td> <td>0    </td> <td>-2     </td>\n",
       "        </tr>\n",
       "        <tr>\n",
       "            <td>second                   </td> <td>1    </td> <td>-4     </td>\n",
       "        </tr>\n",
       "        <tr>\n",
       "            <td>third                    </td> <td>2    </td> <td>-6     </td>\n",
       "        </tr>\n",
       "        <tr>\n",
       "            <td>fourth                   </td> <td>3    </td> <td>-10    </td>\n",
       "        </tr>\n",
       "        <tr>\n",
       "            <td>fifth                    </td> <td>4    </td> <td>-16    </td>\n",
       "        </tr>\n",
       "    </tbody>\n",
       "</table>"
      ],
      "text/plain": [
       "English name for position | Index | Element\n",
       "first                     | 0     | -2\n",
       "second                    | 1     | -4\n",
       "third                     | 2     | -6\n",
       "fourth                    | 3     | -10\n",
       "fifth                     | 4     | -16"
      ]
     },
     "execution_count": 112,
     "metadata": {},
     "output_type": "execute_result"
    }
   ],
   "source": [
    "blank_a = \"first\" #SOLUTION\n",
    "blank_b = \"fifth\" #SOLUTION\n",
    "blank_c = 0 #SOLUTION\n",
    "blank_d = 4 #SOLUTION\n",
    "elements_of_random_numbers = Table().with_columns(\n",
    "    \"English name for position\", make_array(blank_a, \"second\", \"third\", \"fourth\", blank_b),\n",
    "    \"Index\",                     make_array(blank_c, 1, 2, 3, blank_d),\n",
    "    \"Element\",                   random_numbers)\n",
    "elements_of_random_numbers"
   ]
  },
  {
   "cell_type": "raw",
   "id": "98b3a1dd",
   "metadata": {},
   "source": [
    "# END SOLUTION"
   ]
  },
  {
   "cell_type": "raw",
   "id": "40c01f0d",
   "metadata": {},
   "source": [
    "# BEGIN TESTS"
   ]
  },
  {
   "cell_type": "code",
   "execution_count": 113,
   "id": "01e4c24f",
   "metadata": {
    "deletable": false,
    "execution": {
     "iopub.execute_input": "2022-01-27T05:12:44.070287Z",
     "iopub.status.busy": "2022-01-27T05:12:44.069368Z",
     "iopub.status.idle": "2022-01-27T05:12:44.074125Z",
     "shell.execute_reply": "2022-01-27T05:12:44.074985Z"
    }
   },
   "outputs": [
    {
     "data": {
      "text/plain": [
       "True"
      ]
     },
     "execution_count": 113,
     "metadata": {},
     "output_type": "execute_result"
    }
   ],
   "source": [
    "elements_of_random_numbers.column(0).item(2) == \"third\""
   ]
  },
  {
   "cell_type": "code",
   "execution_count": 114,
   "id": "8b6d5faf",
   "metadata": {
    "execution": {
     "iopub.execute_input": "2022-01-27T05:12:44.080895Z",
     "iopub.status.busy": "2022-01-27T05:12:44.080224Z",
     "iopub.status.idle": "2022-01-27T05:12:44.084606Z",
     "shell.execute_reply": "2022-01-27T05:12:44.085086Z"
    }
   },
   "outputs": [
    {
     "data": {
      "text/plain": [
       "True"
      ]
     },
     "execution_count": 114,
     "metadata": {},
     "output_type": "execute_result"
    }
   ],
   "source": [
    "elements_of_random_numbers.column(0).item(3) == \"fourth\""
   ]
  },
  {
   "cell_type": "code",
   "execution_count": 115,
   "id": "1ed5a7f4",
   "metadata": {
    "execution": {
     "iopub.execute_input": "2022-01-27T05:12:44.129903Z",
     "iopub.status.busy": "2022-01-27T05:12:44.129199Z",
     "iopub.status.idle": "2022-01-27T05:12:44.133201Z",
     "shell.execute_reply": "2022-01-27T05:12:44.132625Z"
    }
   },
   "outputs": [
    {
     "data": {
      "text/plain": [
       "True"
      ]
     },
     "execution_count": 115,
     "metadata": {},
     "output_type": "execute_result"
    }
   ],
   "source": [
    "elements_of_random_numbers.column(1).item(0) == 0"
   ]
  },
  {
   "cell_type": "code",
   "execution_count": 116,
   "id": "e322f1dd",
   "metadata": {
    "execution": {
     "iopub.execute_input": "2022-01-27T05:12:44.139023Z",
     "iopub.status.busy": "2022-01-27T05:12:44.138364Z",
     "iopub.status.idle": "2022-01-27T05:12:44.141622Z",
     "shell.execute_reply": "2022-01-27T05:12:44.141027Z"
    }
   },
   "outputs": [
    {
     "data": {
      "text/plain": [
       "True"
      ]
     },
     "execution_count": 116,
     "metadata": {},
     "output_type": "execute_result"
    }
   ],
   "source": [
    "elements_of_random_numbers.column(1).item(3) == 3"
   ]
  },
  {
   "cell_type": "raw",
   "id": "f6368938",
   "metadata": {},
   "source": [
    "# END TESTS"
   ]
  },
  {
   "cell_type": "raw",
   "id": "54ef79b7",
   "metadata": {},
   "source": [
    "# END QUESTION"
   ]
  },
  {
   "cell_type": "raw",
   "id": "4511bc1d",
   "metadata": {},
   "source": [
    "# BEGIN QUESTION\n",
    "name: q2_3\n",
    "points:\n",
    " - 4"
   ]
  },
  {
   "cell_type": "markdown",
   "id": "79c30244",
   "metadata": {},
   "source": [
    "**Question 3.** You'll sometimes want to find the **last** element of an array.  Suppose an array has 200 elements.  What is the index of its last element? **(4 Points)**\n"
   ]
  },
  {
   "cell_type": "raw",
   "id": "ff7656c8",
   "metadata": {},
   "source": [
    "# BEGIN SOLUTION"
   ]
  },
  {
   "cell_type": "code",
   "execution_count": 117,
   "id": "4e714cdf",
   "metadata": {
    "execution": {
     "iopub.execute_input": "2022-01-27T05:12:44.146528Z",
     "iopub.status.busy": "2022-01-27T05:12:44.145899Z",
     "iopub.status.idle": "2022-01-27T05:12:44.149613Z",
     "shell.execute_reply": "2022-01-27T05:12:44.148795Z"
    }
   },
   "outputs": [],
   "source": [
    "index_of_last_element = 200 - 1 # (or just 199) #SOLUTION"
   ]
  },
  {
   "cell_type": "raw",
   "id": "f1264435",
   "metadata": {},
   "source": [
    "# END SOLUTION"
   ]
  },
  {
   "cell_type": "raw",
   "id": "ac233452",
   "metadata": {},
   "source": [
    "# BEGIN TESTS"
   ]
  },
  {
   "cell_type": "code",
   "execution_count": 118,
   "id": "cd7f3bb4",
   "metadata": {
    "deletable": false,
    "execution": {
     "iopub.execute_input": "2022-01-27T05:12:44.154528Z",
     "iopub.status.busy": "2022-01-27T05:12:44.153784Z",
     "iopub.status.idle": "2022-01-27T05:12:44.157934Z",
     "shell.execute_reply": "2022-01-27T05:12:44.157404Z"
    }
   },
   "outputs": [
    {
     "data": {
      "text/plain": [
       "True"
      ]
     },
     "execution_count": 118,
     "metadata": {},
     "output_type": "execute_result"
    }
   ],
   "source": [
    "index_of_last_element == 199"
   ]
  },
  {
   "cell_type": "raw",
   "id": "8d84e7c2",
   "metadata": {},
   "source": [
    "# END TESTS"
   ]
  },
  {
   "cell_type": "raw",
   "id": "1db2ea29",
   "metadata": {},
   "source": [
    "# END QUESTION"
   ]
  },
  {
   "cell_type": "raw",
   "id": "a6429b5e",
   "metadata": {},
   "source": [
    "# BEGIN QUESTION\n",
    "name: q2_4\n",
    "points:\n",
    " - 4"
   ]
  },
  {
   "cell_type": "markdown",
   "id": "0f3be8e2",
   "metadata": {},
   "source": [
    "More often, you don't know the number of elements in an array, its *length*.  (For example, it might be a large dataset you found on the Internet.)  The function `len` takes a single argument, an array, and returns an integer that represents the `len`gth of that array.\n",
    "\n",
    "**Question 4.** The cell below loads an array called `world_population_years`.  Calling `tbl.column(...)` on a table returns an array of the column specified, in this case the `Year` column of the `world_population_years` table. The last element in that array is the most recent years  of all the world population. Assign the **second most** recent year to `second_most_recent_population_year`. **(4 Points)**\n"
   ]
  },
  {
   "cell_type": "raw",
   "id": "29dec8ef",
   "metadata": {},
   "source": [
    "# BEGIN SOLUTION"
   ]
  },
  {
   "cell_type": "code",
   "execution_count": 119,
   "id": "4beb1c46",
   "metadata": {
    "execution": {
     "iopub.execute_input": "2022-01-27T05:12:44.163586Z",
     "iopub.status.busy": "2022-01-27T05:12:44.162992Z",
     "iopub.status.idle": "2022-01-27T05:12:44.173244Z",
     "shell.execute_reply": "2022-01-27T05:12:44.173740Z"
    }
   },
   "outputs": [
    {
     "data": {
      "text/plain": [
       "2014"
      ]
     },
     "execution_count": 119,
     "metadata": {},
     "output_type": "execute_result"
    }
   ],
   "source": [
    "world_population_years = Table.read_table(\"world_population.csv\").column('Year')\n",
    "\n",
    "second_most_recent_population_year= world_population_years.item(len(world_population_years)-2) #SOLUTION\n",
    "second_most_recent_population_year"
   ]
  },
  {
   "cell_type": "raw",
   "id": "5b6ac1cc",
   "metadata": {},
   "source": [
    "# END SOLUTION"
   ]
  },
  {
   "cell_type": "raw",
   "id": "8efcda06",
   "metadata": {},
   "source": [
    "# BEGIN TESTS"
   ]
  },
  {
   "cell_type": "code",
   "execution_count": 120,
   "id": "ded3d6d5",
   "metadata": {
    "deletable": false,
    "execution": {
     "iopub.execute_input": "2022-01-27T05:12:44.178777Z",
     "iopub.status.busy": "2022-01-27T05:12:44.178111Z",
     "iopub.status.idle": "2022-01-27T05:12:44.181843Z",
     "shell.execute_reply": "2022-01-27T05:12:44.182261Z"
    }
   },
   "outputs": [
    {
     "data": {
      "text/plain": [
       "True"
      ]
     },
     "execution_count": 120,
     "metadata": {},
     "output_type": "execute_result"
    }
   ],
   "source": [
    "second_most_recent_population_year == 2014"
   ]
  },
  {
   "cell_type": "raw",
   "id": "b83b234c",
   "metadata": {},
   "source": [
    "# END TESTS"
   ]
  },
  {
   "cell_type": "raw",
   "id": "d0407ca5",
   "metadata": {},
   "source": [
    "# END QUESTION"
   ]
  },
  {
   "cell_type": "raw",
   "id": "cc6b589d",
   "metadata": {},
   "source": [
    "# BEGIN QUESTION\n",
    "name: q2_5\n",
    "points:\n",
    " - 0\n",
    " - 4"
   ]
  },
  {
   "cell_type": "markdown",
   "id": "2e2ad78a",
   "metadata": {},
   "source": [
    "**Question 5.** Finally, assign `min_of_population_years` to the minimum of the first, eighth, and last population years listed in `world_population_years`. **(4 Points)**\n"
   ]
  },
  {
   "cell_type": "raw",
   "id": "86559b8f",
   "metadata": {},
   "source": [
    "# BEGIN SOLUTION"
   ]
  },
  {
   "cell_type": "code",
   "execution_count": 121,
   "id": "758a51c8",
   "metadata": {
    "execution": {
     "iopub.execute_input": "2022-01-27T05:12:44.187984Z",
     "iopub.status.busy": "2022-01-27T05:12:44.187397Z",
     "iopub.status.idle": "2022-01-27T05:12:44.191655Z",
     "shell.execute_reply": "2022-01-27T05:12:44.191065Z"
    }
   },
   "outputs": [
    {
     "data": {
      "text/plain": [
       "1950"
      ]
     },
     "execution_count": 121,
     "metadata": {},
     "output_type": "execute_result"
    }
   ],
   "source": [
    "min_of_population_years = min(make_array(world_population_years.item(0), world_population_years.item(7), world_population_years.item(len(world_population_years) - 1))) #SOLUTION\n",
    "min_of_population_years"
   ]
  },
  {
   "cell_type": "raw",
   "id": "5c130685",
   "metadata": {},
   "source": [
    "# END SOLUTION"
   ]
  },
  {
   "cell_type": "raw",
   "id": "90614331",
   "metadata": {},
   "source": [
    "# BEGIN TESTS"
   ]
  },
  {
   "cell_type": "code",
   "execution_count": 122,
   "id": "efdd7ff6",
   "metadata": {
    "execution": {
     "iopub.execute_input": "2022-01-27T05:12:44.229844Z",
     "iopub.status.busy": "2022-01-27T05:12:44.227567Z",
     "iopub.status.idle": "2022-01-27T05:12:44.233888Z",
     "shell.execute_reply": "2022-01-27T05:12:44.233385Z"
    }
   },
   "outputs": [
    {
     "data": {
      "text/plain": [
       "True"
      ]
     },
     "execution_count": 122,
     "metadata": {},
     "output_type": "execute_result"
    }
   ],
   "source": [
    "min_of_population_years > 0"
   ]
  },
  {
   "cell_type": "code",
   "execution_count": 123,
   "id": "59c01acf",
   "metadata": {
    "deletable": false,
    "execution": {
     "iopub.execute_input": "2022-01-27T05:12:44.239367Z",
     "iopub.status.busy": "2022-01-27T05:12:44.238521Z",
     "iopub.status.idle": "2022-01-27T05:12:44.242576Z",
     "shell.execute_reply": "2022-01-27T05:12:44.242063Z"
    }
   },
   "outputs": [
    {
     "data": {
      "text/plain": [
       "True"
      ]
     },
     "execution_count": 123,
     "metadata": {},
     "output_type": "execute_result"
    }
   ],
   "source": [
    "# HIDDEN\n",
    "min_of_population_years == 1950"
   ]
  },
  {
   "cell_type": "raw",
   "id": "2e870413",
   "metadata": {},
   "source": [
    "# END TESTS"
   ]
  },
  {
   "cell_type": "raw",
   "id": "4eb6f09b",
   "metadata": {},
   "source": [
    "# END QUESTION"
   ]
  },
  {
   "cell_type": "markdown",
   "id": "585aaa6d",
   "metadata": {},
   "source": [
    "## 3. Basic Array Arithmetic"
   ]
  },
  {
   "cell_type": "raw",
   "id": "3ea58f0a",
   "metadata": {},
   "source": [
    "# BEGIN QUESTION\n",
    "name: q3_1\n",
    "points:\n",
    " - 0\n",
    " - 4"
   ]
  },
  {
   "cell_type": "markdown",
   "id": "0c21f71f",
   "metadata": {},
   "source": [
    "**Question 1.** Divide the numbers 50, -505, 505050505, and 250 by 10. Assign each variable below such that `first_division` is assigned to the result of $50 // 10$, `second_division` is assigned to the result of $-505 // 10$, and so on. **(4 Points)**\n",
    "\n",
    "*Note*: For this question, **don't** use arrays.\n",
    "\n",
    "*Note*: Use the double slash operator `//` for this entire question. This operator `//` performs floor division by dividing the first number by the second number and rounding down the result to the nearest integer (whole number).\n"
   ]
  },
  {
   "cell_type": "raw",
   "id": "f8e46ebc",
   "metadata": {},
   "source": [
    "# BEGIN SOLUTION"
   ]
  },
  {
   "cell_type": "code",
   "execution_count": 124,
   "id": "c050cabe",
   "metadata": {
    "execution": {
     "iopub.execute_input": "2022-01-27T05:12:44.248606Z",
     "iopub.status.busy": "2022-01-27T05:12:44.247879Z",
     "iopub.status.idle": "2022-01-27T05:12:44.253960Z",
     "shell.execute_reply": "2022-01-27T05:12:44.253499Z"
    }
   },
   "outputs": [
    {
     "name": "stdout",
     "output_type": "stream",
     "text": [
      "First Division: 5\n",
      "Second Division: -51\n",
      "Third Division: 50505050\n",
      "Fourth Division: 25\n"
     ]
    }
   ],
   "source": [
    "first_division = 50 // 10 #SOLUTION\n",
    "second_division = -505 // 10 #SOLUTION\n",
    "third_division = 505050505 // 10 #SOLUTION\n",
    "fourth_division = 250 // 10 #SOLUTION\n",
    "print(\"First Division:\", first_division)\n",
    "print(\"Second Division:\", second_division)\n",
    "print(\"Third Division:\", third_division)\n",
    "print(\"Fourth Division:\", fourth_division)"
   ]
  },
  {
   "cell_type": "raw",
   "id": "ccf339df",
   "metadata": {},
   "source": [
    "# END SOLUTION"
   ]
  },
  {
   "cell_type": "raw",
   "id": "5dcab0e3",
   "metadata": {},
   "source": [
    "# BEGIN TESTS"
   ]
  },
  {
   "cell_type": "code",
   "execution_count": 125,
   "id": "b1e068d6",
   "metadata": {
    "execution": {
     "iopub.execute_input": "2022-01-27T05:12:44.259803Z",
     "iopub.status.busy": "2022-01-27T05:12:44.258922Z",
     "iopub.status.idle": "2022-01-27T05:12:44.262904Z",
     "shell.execute_reply": "2022-01-27T05:12:44.263343Z"
    }
   },
   "outputs": [
    {
     "data": {
      "text/plain": [
       "(True, True, True, True)"
      ]
     },
     "execution_count": 125,
     "metadata": {},
     "output_type": "execute_result"
    }
   ],
   "source": [
    "first_division > 0, second_division < 0, third_division > 0, fourth_division > 0"
   ]
  },
  {
   "cell_type": "code",
   "execution_count": 126,
   "id": "b6992e57",
   "metadata": {
    "execution": {
     "iopub.execute_input": "2022-01-27T05:12:44.269986Z",
     "iopub.status.busy": "2022-01-27T05:12:44.269123Z",
     "iopub.status.idle": "2022-01-27T05:12:44.273622Z",
     "shell.execute_reply": "2022-01-27T05:12:44.273115Z"
    }
   },
   "outputs": [
    {
     "data": {
      "text/plain": [
       "True"
      ]
     },
     "execution_count": 126,
     "metadata": {},
     "output_type": "execute_result"
    }
   ],
   "source": [
    "# HIDDEN\n",
    "np.allclose([first_division, second_division, third_division, fourth_division], \\\n",
    "            np.array([5, -51, 50505050, 25]))"
   ]
  },
  {
   "cell_type": "raw",
   "id": "e68ee17d",
   "metadata": {},
   "source": [
    "# END TESTS"
   ]
  },
  {
   "cell_type": "raw",
   "id": "3d8cf136",
   "metadata": {},
   "source": [
    "# END QUESTION"
   ]
  },
  {
   "cell_type": "raw",
   "id": "b8a88245",
   "metadata": {},
   "source": [
    "# BEGIN QUESTION\n",
    "name: q3_2\n",
    "points:\n",
    " - 0\n",
    " - 4"
   ]
  },
  {
   "cell_type": "markdown",
   "id": "b0eea5f8",
   "metadata": {},
   "source": [
    "**Question 2.** Now, do the same calculation, but using an array called `digits` and only a single division n (`//`) operator.  Store the 4 results in an array named `divisions`. **(4 Points)**\n"
   ]
  },
  {
   "cell_type": "raw",
   "id": "d2154c91",
   "metadata": {},
   "source": [
    "# BEGIN SOLUTION"
   ]
  },
  {
   "cell_type": "code",
   "execution_count": 127,
   "id": "4aec861e",
   "metadata": {
    "execution": {
     "iopub.execute_input": "2022-01-27T05:12:44.279657Z",
     "iopub.status.busy": "2022-01-27T05:12:44.278901Z",
     "iopub.status.idle": "2022-01-27T05:12:44.283500Z",
     "shell.execute_reply": "2022-01-27T05:12:44.282978Z"
    }
   },
   "outputs": [
    {
     "data": {
      "text/plain": [
       "array([       5,      -51, 50505050,       25])"
      ]
     },
     "execution_count": 127,
     "metadata": {},
     "output_type": "execute_result"
    }
   ],
   "source": [
    "digits = make_array(50, -505, 505050505, 250) #SOLUTION\n",
    "divisions = digits // 10 #SOLUTION\n",
    "divisions"
   ]
  },
  {
   "cell_type": "raw",
   "id": "31115b1f",
   "metadata": {},
   "source": [
    "# END SOLUTION"
   ]
  },
  {
   "cell_type": "raw",
   "id": "bb1ee870",
   "metadata": {},
   "source": [
    "# BEGIN TESTS"
   ]
  },
  {
   "cell_type": "code",
   "execution_count": 128,
   "id": "d3973b23",
   "metadata": {
    "execution": {
     "iopub.execute_input": "2022-01-27T05:12:44.328763Z",
     "iopub.status.busy": "2022-01-27T05:12:44.327860Z",
     "iopub.status.idle": "2022-01-27T05:12:44.332255Z",
     "shell.execute_reply": "2022-01-27T05:12:44.331736Z"
    }
   },
   "outputs": [
    {
     "data": {
      "text/plain": [
       "True"
      ]
     },
     "execution_count": 128,
     "metadata": {},
     "output_type": "execute_result"
    }
   ],
   "source": [
    "# products should be an array!\n",
    "len(divisions) == 4"
   ]
  },
  {
   "cell_type": "code",
   "execution_count": 129,
   "id": "028550b8",
   "metadata": {
    "deletable": false,
    "execution": {
     "iopub.execute_input": "2022-01-27T05:12:44.338977Z",
     "iopub.status.busy": "2022-01-27T05:12:44.338059Z",
     "iopub.status.idle": "2022-01-27T05:12:44.342397Z",
     "shell.execute_reply": "2022-01-27T05:12:44.341826Z"
    }
   },
   "outputs": [
    {
     "data": {
      "text/plain": [
       "True"
      ]
     },
     "execution_count": 129,
     "metadata": {},
     "output_type": "execute_result"
    }
   ],
   "source": [
    "# HIDDEN\n",
    "np.allclose(divisions, np.array([5, -51, 50505050, 25]))"
   ]
  },
  {
   "cell_type": "raw",
   "id": "39d79d37",
   "metadata": {},
   "source": [
    "# END TESTS"
   ]
  },
  {
   "cell_type": "raw",
   "id": "85615afd",
   "metadata": {},
   "source": [
    "# END QUESTION"
   ]
  },
  {
   "cell_type": "raw",
   "id": "5dc58035",
   "metadata": {},
   "source": [
    "# BEGIN QUESTION\n",
    "name: q3_3\n",
    "points:\n",
    " - 0\n",
    " - 4"
   ]
  },
  {
   "cell_type": "markdown",
   "id": "fc26104c",
   "metadata": {},
   "source": [
    "**Question 3.** Darn it, we made a mistake!  Instead of 10, we wanted to divide each number by 5.  Compute the correct divisions in the cell below using array arithmetic.  Notice that your job is really easy if you previously defined an array containing the 4 numbers. **(4 Points)**\n",
    "\n",
    "Note! use `//`."
   ]
  },
  {
   "cell_type": "raw",
   "id": "f1576238",
   "metadata": {},
   "source": [
    "# BEGIN SOLUTION"
   ]
  },
  {
   "cell_type": "code",
   "execution_count": 130,
   "id": "8385ab7f",
   "metadata": {
    "execution": {
     "iopub.execute_input": "2022-01-27T05:12:44.349544Z",
     "iopub.status.busy": "2022-01-27T05:12:44.348545Z",
     "iopub.status.idle": "2022-01-27T05:12:44.352876Z",
     "shell.execute_reply": "2022-01-27T05:12:44.352263Z"
    }
   },
   "outputs": [
    {
     "data": {
      "text/plain": [
       "array([       10,      -101, 101010101,        50])"
      ]
     },
     "execution_count": 130,
     "metadata": {},
     "output_type": "execute_result"
    }
   ],
   "source": [
    "correct_division = digits // 5  # SOLUTION\n",
    "correct_division"
   ]
  },
  {
   "cell_type": "raw",
   "id": "519cbd3e",
   "metadata": {},
   "source": [
    "# END SOLUTION"
   ]
  },
  {
   "cell_type": "raw",
   "id": "59c41486",
   "metadata": {},
   "source": [
    "# BEGIN TESTS"
   ]
  },
  {
   "cell_type": "code",
   "execution_count": 131,
   "id": "a4e676b6",
   "metadata": {
    "execution": {
     "iopub.execute_input": "2022-01-27T05:12:44.358698Z",
     "iopub.status.busy": "2022-01-27T05:12:44.357807Z",
     "iopub.status.idle": "2022-01-27T05:12:44.361686Z",
     "shell.execute_reply": "2022-01-27T05:12:44.362216Z"
    }
   },
   "outputs": [
    {
     "data": {
      "text/plain": [
       "True"
      ]
     },
     "execution_count": 131,
     "metadata": {},
     "output_type": "execute_result"
    }
   ],
   "source": [
    "len(correct_division) == 4"
   ]
  },
  {
   "cell_type": "code",
   "execution_count": 132,
   "id": "01dc6b61",
   "metadata": {
    "deletable": false,
    "execution": {
     "iopub.execute_input": "2022-01-27T05:12:44.368550Z",
     "iopub.status.busy": "2022-01-27T05:12:44.367611Z",
     "iopub.status.idle": "2022-01-27T05:12:44.371836Z",
     "shell.execute_reply": "2022-01-27T05:12:44.371253Z"
    }
   },
   "outputs": [
    {
     "data": {
      "text/plain": [
       "True"
      ]
     },
     "execution_count": 132,
     "metadata": {},
     "output_type": "execute_result"
    }
   ],
   "source": [
    "# HIDDEN\n",
    "np.allclose(correct_division, np.array([10, -101, 101010101, 50]))"
   ]
  },
  {
   "cell_type": "raw",
   "id": "b8e8a875",
   "metadata": {},
   "source": [
    "# END TESTS"
   ]
  },
  {
   "cell_type": "raw",
   "id": "56494ec4",
   "metadata": {},
   "source": [
    "# END QUESTION"
   ]
  },
  {
   "cell_type": "raw",
   "id": "2186290c",
   "metadata": {},
   "source": [
    "# BEGIN QUESTION\n",
    "name: q3_4\n",
    "points:\n",
    " - 1\n",
    " - 1\n",
    " - 1\n",
    " - 1"
   ]
  },
  {
   "cell_type": "markdown",
   "id": "ba60c2dd",
   "metadata": {},
   "source": [
    "**Question 4.** We've loaded an array of temperatures in the next cell.  Each number is the highest temperature observed on a day at a climate observation station, mostly from the US.  Since they're from the US government agency [NOAA](https://www.noaa.gov/), all the temperatures are in Fahrenheit.\n",
    "\n",
    "Convert all the temperatures to Kelvin by first subtracting 32 from them, then multiplying the results by $\\frac{5}{9}$, then adding 273.15 ie. Here is the formula $K = (F - 32) * \\frac{5}{9} + 273.15$. After converting the temperatures to Kelvin, make sure to **ROUND** the final result  to the nearest integer using the `np.round` function. **(4 Points)**\n"
   ]
  },
  {
   "cell_type": "raw",
   "id": "ce097d7b",
   "metadata": {},
   "source": [
    "# BEGIN SOLUTION"
   ]
  },
  {
   "cell_type": "code",
   "execution_count": 133,
   "id": "a50eb911",
   "metadata": {
    "execution": {
     "iopub.execute_input": "2022-01-27T05:12:44.377841Z",
     "iopub.status.busy": "2022-01-27T05:12:44.376856Z",
     "iopub.status.idle": "2022-01-27T05:12:44.450650Z",
     "shell.execute_reply": "2022-01-27T05:12:44.451082Z"
    }
   },
   "outputs": [
    {
     "data": {
      "text/plain": [
       "array([ 263.,  294.,  293., ...,  273.,  284.,  278.])"
      ]
     },
     "execution_count": 133,
     "metadata": {},
     "output_type": "execute_result"
    }
   ],
   "source": [
    "min_temperatures = Table.read_table(\"temperatures.csv\").column(\"Daily Min Temperature\")\n",
    "\n",
    "kelvin_min_temperatures = np.round((min_temperatures - 32) * 5/9 + 273.15) #SOLUTION\n",
    "kelvin_min_temperatures"
   ]
  },
  {
   "cell_type": "raw",
   "id": "a40c773b",
   "metadata": {},
   "source": [
    "# END SOLUTION"
   ]
  },
  {
   "cell_type": "raw",
   "id": "04053586",
   "metadata": {},
   "source": [
    "# BEGIN TESTS"
   ]
  },
  {
   "cell_type": "code",
   "execution_count": 134,
   "id": "c5c20bb5",
   "metadata": {
    "deletable": false,
    "execution": {
     "iopub.execute_input": "2022-01-27T05:12:44.461612Z",
     "iopub.status.busy": "2022-01-27T05:12:44.460450Z",
     "iopub.status.idle": "2022-01-27T05:12:44.465629Z",
     "shell.execute_reply": "2022-01-27T05:12:44.466108Z"
    }
   },
   "outputs": [
    {
     "data": {
      "text/plain": [
       "True"
      ]
     },
     "execution_count": 134,
     "metadata": {},
     "output_type": "execute_result"
    }
   ],
   "source": [
    "# It looks like you multiplied and subtracted in the wrong\n",
    "# order.\n",
    "sum(kelvin_min_temperatures) != 356705.0"
   ]
  },
  {
   "cell_type": "code",
   "execution_count": 135,
   "id": "38c5dceb",
   "metadata": {
    "execution": {
     "iopub.execute_input": "2022-01-27T05:12:44.477110Z",
     "iopub.status.busy": "2022-01-27T05:12:44.476085Z",
     "iopub.status.idle": "2022-01-27T05:12:44.481181Z",
     "shell.execute_reply": "2022-01-27T05:12:44.480623Z"
    }
   },
   "outputs": [
    {
     "data": {
      "text/plain": [
       "18264353.0"
      ]
     },
     "execution_count": 135,
     "metadata": {},
     "output_type": "execute_result"
    }
   ],
   "source": [
    "sum(kelvin_min_temperatures)"
   ]
  },
  {
   "cell_type": "code",
   "execution_count": 136,
   "id": "7132d548",
   "metadata": {
    "execution": {
     "iopub.execute_input": "2022-01-27T05:12:44.486915Z",
     "iopub.status.busy": "2022-01-27T05:12:44.485949Z",
     "iopub.status.idle": "2022-01-27T05:12:44.490013Z",
     "shell.execute_reply": "2022-01-27T05:12:44.489522Z"
    }
   },
   "outputs": [
    {
     "data": {
      "text/plain": [
       "65000"
      ]
     },
     "execution_count": 136,
     "metadata": {},
     "output_type": "execute_result"
    }
   ],
   "source": [
    "len(kelvin_min_temperatures)"
   ]
  },
  {
   "cell_type": "code",
   "execution_count": 137,
   "id": "1caa8d03",
   "metadata": {
    "execution": {
     "iopub.execute_input": "2022-01-27T05:12:44.495050Z",
     "iopub.status.busy": "2022-01-27T05:12:44.494170Z",
     "iopub.status.idle": "2022-01-27T05:12:44.498377Z",
     "shell.execute_reply": "2022-01-27T05:12:44.497900Z"
    }
   },
   "outputs": [
    {
     "data": {
      "text/plain": [
       "290.0"
      ]
     },
     "execution_count": 137,
     "metadata": {},
     "output_type": "execute_result"
    }
   ],
   "source": [
    "kelvin_min_temperatures.item(2003)"
   ]
  },
  {
   "cell_type": "raw",
   "id": "0cd9d8c8",
   "metadata": {},
   "source": [
    "# END TESTS"
   ]
  },
  {
   "cell_type": "raw",
   "id": "fd03b245",
   "metadata": {},
   "source": [
    "# END QUESTION"
   ]
  },
  {
   "cell_type": "raw",
   "id": "dc2afe20",
   "metadata": {},
   "source": [
    "# BEGIN QUESTION\n",
    "name: q3_5\n",
    "points:\n",
    " - 0\n",
    " - 4\n",
    " - 0"
   ]
  },
  {
   "cell_type": "markdown",
   "id": "cc4011d6",
   "metadata": {},
   "source": [
    "**Question 5.** The cell below loads all the *maximum* temperatures from each day (in Fahrenheit).  Compute the daily temperature range for each day. That is, compute the difference between each daily maximum temperature and the corresponding daily minimum temperature.  **Pay attention to the units and give your answer in Kelvin!** Make sure **NOT** to round your answer for this question! **(4 Points)**\n",
    "\n",
    "*Note:* Remember that in Question 4, `kelvin_min_temperatures` was rounded, so you might not want to use that variable in this question.\n",
    "\n"
   ]
  },
  {
   "cell_type": "raw",
   "id": "9a804670",
   "metadata": {},
   "source": [
    "# BEGIN SOLUTION"
   ]
  },
  {
   "cell_type": "code",
   "execution_count": 138,
   "id": "cfc53cca",
   "metadata": {
    "execution": {
     "iopub.execute_input": "2022-01-27T05:12:44.529711Z",
     "iopub.status.busy": "2022-01-27T05:12:44.527097Z",
     "iopub.status.idle": "2022-01-27T05:12:44.564639Z",
     "shell.execute_reply": "2022-01-27T05:12:44.564127Z"
    }
   },
   "outputs": [
    {
     "data": {
      "text/plain": [
       "array([  6.66666667,  10.        ,  12.22222222, ...,  17.22222222,\n",
       "        11.66666667,  11.11111111])"
      ]
     },
     "execution_count": 138,
     "metadata": {},
     "output_type": "execute_result"
    }
   ],
   "source": [
    "max_temperatures = Table.read_table(\"temperatures.csv\").column(\"Daily Max Temperature\")\n",
    "\n",
    "kelvin_temperature_ranges = ((max_temperatures - 32) * 5/9 + 273.15)  - ((min_temperatures - 32) * 5/9 + 273.15)  #SOLUTION\n",
    "kelvin_temperature_ranges"
   ]
  },
  {
   "cell_type": "raw",
   "id": "0638b51b",
   "metadata": {},
   "source": [
    "# END SOLUTION"
   ]
  },
  {
   "cell_type": "raw",
   "id": "1f6971b0",
   "metadata": {},
   "source": [
    "# BEGIN TESTS"
   ]
  },
  {
   "cell_type": "code",
   "execution_count": 92,
   "id": "dd6a35af",
   "metadata": {
    "execution": {
     "iopub.execute_input": "2022-01-27T05:12:44.570510Z",
     "iopub.status.busy": "2022-01-27T05:12:44.569601Z",
     "iopub.status.idle": "2022-01-27T05:12:44.573390Z",
     "shell.execute_reply": "2022-01-27T05:12:44.572905Z"
    }
   },
   "outputs": [
    {
     "data": {
      "text/plain": [
       "True"
      ]
     },
     "execution_count": 92,
     "metadata": {},
     "output_type": "execute_result"
    }
   ],
   "source": [
    "# kelvin_temperature_ranges should be an array\n",
    "type(kelvin_temperature_ranges) is np.ndarray"
   ]
  },
  {
   "cell_type": "code",
   "execution_count": 139,
   "id": "6f66a18e",
   "metadata": {},
   "outputs": [
    {
     "data": {
      "text/plain": [
       "768486.66666666628"
      ]
     },
     "execution_count": 139,
     "metadata": {},
     "output_type": "execute_result"
    }
   ],
   "source": [
    "sum(kelvin_temperature_ranges)"
   ]
  },
  {
   "cell_type": "code",
   "execution_count": 148,
   "id": "316ba1fe",
   "metadata": {
    "deletable": false,
    "execution": {
     "iopub.execute_input": "2022-01-27T05:12:44.584708Z",
     "iopub.status.busy": "2022-01-27T05:12:44.582225Z",
     "iopub.status.idle": "2022-01-27T05:12:44.588392Z",
     "shell.execute_reply": "2022-01-27T05:12:44.588831Z"
    }
   },
   "outputs": [
    {
     "data": {
      "text/plain": [
       "True"
      ]
     },
     "execution_count": 148,
     "metadata": {},
     "output_type": "execute_result"
    }
   ],
   "source": [
    "np.isclose(round(sum(kelvin_temperature_ranges)), 768486.67)"
   ]
  },
  {
   "cell_type": "code",
   "execution_count": 149,
   "id": "10a57412",
   "metadata": {
    "execution": {
     "iopub.execute_input": "2022-01-27T05:12:44.594368Z",
     "iopub.status.busy": "2022-01-27T05:12:44.593474Z",
     "iopub.status.idle": "2022-01-27T05:12:44.597058Z",
     "shell.execute_reply": "2022-01-27T05:12:44.597636Z"
    }
   },
   "outputs": [
    {
     "data": {
      "text/plain": [
       "65000"
      ]
     },
     "execution_count": 149,
     "metadata": {},
     "output_type": "execute_result"
    }
   ],
   "source": [
    "len(kelvin_temperature_ranges)"
   ]
  },
  {
   "cell_type": "raw",
   "id": "3a3db562",
   "metadata": {},
   "source": [
    "# END TESTS"
   ]
  },
  {
   "cell_type": "raw",
   "id": "8c732d7c",
   "metadata": {},
   "source": [
    "# END QUESTION"
   ]
  },
  {
   "cell_type": "markdown",
   "id": "cced0cb1",
   "metadata": {},
   "source": [
    "## 4. Old Faithful"
   ]
  },
  {
   "cell_type": "markdown",
   "id": "a930a372",
   "metadata": {},
   "source": [
    "Old Faithful is a geyser in Yellowstone that erupts every 44 to 125 minutes (according to [Wikipedia](https://en.wikipedia.org/wiki/Old_Faithful)). People are [often told that the geyser erupts every hour](http://yellowstone.net/geysers/old-faithful/), but in fact the waiting time between eruptions is more variable. Let's take a look."
   ]
  },
  {
   "cell_type": "raw",
   "id": "75dc5a4b",
   "metadata": {},
   "source": [
    "# BEGIN QUESTION\n",
    "name: q4_1\n",
    "points:\n",
    " - 0\n",
    " - 0\n",
    " - 2\n",
    " - 2"
   ]
  },
  {
   "cell_type": "markdown",
   "id": "068abe64",
   "metadata": {},
   "source": [
    "**Question 1.** The first line below assigns `waiting_times` to an array of 272 consecutive waiting times between eruptions, taken from a classic 1938 dataset. Assign the names `shortest`, `longest`, and `average` so that the `print` statement is correct. **(4 Points)**\n"
   ]
  },
  {
   "cell_type": "raw",
   "id": "5a08e860",
   "metadata": {},
   "source": [
    "# BEGIN SOLUTION"
   ]
  },
  {
   "cell_type": "code",
   "execution_count": 151,
   "id": "518a6bfd",
   "metadata": {
    "execution": {
     "iopub.execute_input": "2022-01-27T05:12:44.603245Z",
     "iopub.status.busy": "2022-01-27T05:12:44.602713Z",
     "iopub.status.idle": "2022-01-27T05:12:44.633708Z",
     "shell.execute_reply": "2022-01-27T05:12:44.634119Z"
    }
   },
   "outputs": [
    {
     "name": "stdout",
     "output_type": "stream",
     "text": [
      "Old Faithful erupts every 43 to 96 minutes and every 70.8970588235 minutes on average.\n"
     ]
    }
   ],
   "source": [
    "waiting_times = Table.read_table('old_faithful.csv').column('waiting')\n",
    "waiting_times\n",
    "\n",
    "shortest = min(waiting_times) # SOLUTION\n",
    "longest = max(waiting_times) # SOLUTION\n",
    "average = np.mean(waiting_times) # SOLUTION\n",
    "\n",
    "print(\"Old Faithful erupts every\", shortest, \"to\", longest, \"minutes and every\", average, \"minutes on average.\")"
   ]
  },
  {
   "cell_type": "raw",
   "id": "79a0175c",
   "metadata": {},
   "source": [
    "# END SOLUTION"
   ]
  },
  {
   "cell_type": "raw",
   "id": "b03523db",
   "metadata": {},
   "source": [
    "# BEGIN TESTS"
   ]
  },
  {
   "cell_type": "code",
   "execution_count": 152,
   "id": "ffa88e6b",
   "metadata": {
    "deletable": false,
    "execution": {
     "iopub.execute_input": "2022-01-27T05:12:44.640810Z",
     "iopub.status.busy": "2022-01-27T05:12:44.640197Z",
     "iopub.status.idle": "2022-01-27T05:12:44.643609Z",
     "shell.execute_reply": "2022-01-27T05:12:44.644040Z"
    }
   },
   "outputs": [
    {
     "data": {
      "text/plain": [
       "True"
      ]
     },
     "execution_count": 152,
     "metadata": {},
     "output_type": "execute_result"
    }
   ],
   "source": [
    "# Hint: shortest is a number between 40 and 50.\n",
    "40 <= shortest <= 50"
   ]
  },
  {
   "cell_type": "code",
   "execution_count": 153,
   "id": "60341bda",
   "metadata": {
    "execution": {
     "iopub.execute_input": "2022-01-27T05:12:44.649550Z",
     "iopub.status.busy": "2022-01-27T05:12:44.648689Z",
     "iopub.status.idle": "2022-01-27T05:12:44.652221Z",
     "shell.execute_reply": "2022-01-27T05:12:44.652642Z"
    }
   },
   "outputs": [
    {
     "data": {
      "text/plain": [
       "True"
      ]
     },
     "execution_count": 153,
     "metadata": {},
     "output_type": "execute_result"
    }
   ],
   "source": [
    "# Hint: the average is between the shortest and the longest\n",
    "shortest <= average <= longest"
   ]
  },
  {
   "cell_type": "code",
   "execution_count": 154,
   "id": "7e197103",
   "metadata": {
    "execution": {
     "iopub.execute_input": "2022-01-27T05:12:44.657471Z",
     "iopub.status.busy": "2022-01-27T05:12:44.656892Z",
     "iopub.status.idle": "2022-01-27T05:12:44.661191Z",
     "shell.execute_reply": "2022-01-27T05:12:44.660714Z"
    }
   },
   "outputs": [
    {
     "data": {
      "text/plain": [
       "True"
      ]
     },
     "execution_count": 154,
     "metadata": {},
     "output_type": "execute_result"
    }
   ],
   "source": [
    "# HIDDEN\n",
    "shortest == 43 and longest == 96"
   ]
  },
  {
   "cell_type": "code",
   "execution_count": 155,
   "id": "e81890db",
   "metadata": {
    "execution": {
     "iopub.execute_input": "2022-01-27T05:12:44.666076Z",
     "iopub.status.busy": "2022-01-27T05:12:44.665522Z",
     "iopub.status.idle": "2022-01-27T05:12:44.669211Z",
     "shell.execute_reply": "2022-01-27T05:12:44.669686Z"
    }
   },
   "outputs": [
    {
     "data": {
      "text/plain": [
       "True"
      ]
     },
     "execution_count": 155,
     "metadata": {},
     "output_type": "execute_result"
    }
   ],
   "source": [
    "# HIDDEN\n",
    "np.isclose(average, 70.8970588235)"
   ]
  },
  {
   "cell_type": "raw",
   "id": "1726c77e",
   "metadata": {},
   "source": [
    "# END TESTS"
   ]
  },
  {
   "cell_type": "raw",
   "id": "8636390a",
   "metadata": {},
   "source": [
    "# END QUESTION"
   ]
  },
  {
   "cell_type": "raw",
   "id": "cb885252",
   "metadata": {},
   "source": [
    "# BEGIN QUESTION\n",
    "name: q4_2\n",
    "points:\n",
    " - 0\n",
    " - 0\n",
    " - 4"
   ]
  },
  {
   "cell_type": "markdown",
   "id": "252c013f",
   "metadata": {},
   "source": [
    "**Question 2.** Assign `biggest_increase` to the biggest increase in waiting time between two consecutive eruptions. For example, the second eruption occurred after 54 minutes and the third after 74 minutes, so the increase in waiting time was 74 - 54 = 20 minutes. **(4 Points)**\n",
    "\n",
    "*Hint*: We want to return the biggest increase.\n",
    "\n",
    "*Note*: `np.diff()` calculates the difference between subsequent values in an array. For example, calling `np.diff()` on the array `make_array(1, 8, 3, 5)` evaluates to `array([8 - 1, 3 - 8, 5 - 3])`, or `array([7, -5, 2])`.\n"
   ]
  },
  {
   "cell_type": "raw",
   "id": "7ddd7afd",
   "metadata": {},
   "source": [
    "# BEGIN SOLUTION"
   ]
  },
  {
   "cell_type": "code",
   "execution_count": 168,
   "id": "e2018485",
   "metadata": {
    "execution": {
     "iopub.execute_input": "2022-01-27T05:12:44.675299Z",
     "iopub.status.busy": "2022-01-27T05:12:44.674698Z",
     "iopub.status.idle": "2022-01-27T05:12:44.679010Z",
     "shell.execute_reply": "2022-01-27T05:12:44.678524Z"
    }
   },
   "outputs": [
    {
     "data": {
      "text/plain": [
       "47"
      ]
     },
     "execution_count": 168,
     "metadata": {},
     "output_type": "execute_result"
    }
   ],
   "source": [
    "# np.diff() calculates the difference between subsequent values  \n",
    "# in a NumPy array.\n",
    "differences = np.diff(waiting_times)\n",
    "biggest_increase = (max((differences))) # SOLUTION\n",
    "biggest_increase"
   ]
  },
  {
   "cell_type": "raw",
   "id": "7c2852fe",
   "metadata": {},
   "source": [
    "# END SOLUTION"
   ]
  },
  {
   "cell_type": "raw",
   "id": "2a71f71e",
   "metadata": {},
   "source": [
    "# BEGIN TESTS"
   ]
  },
  {
   "cell_type": "code",
   "execution_count": 169,
   "id": "a2c9c844",
   "metadata": {
    "deletable": false,
    "execution": {
     "iopub.execute_input": "2022-01-27T05:12:44.683898Z",
     "iopub.status.busy": "2022-01-27T05:12:44.683281Z",
     "iopub.status.idle": "2022-01-27T05:12:44.687693Z",
     "shell.execute_reply": "2022-01-27T05:12:44.687125Z"
    }
   },
   "outputs": [
    {
     "data": {
      "text/plain": [
       "True"
      ]
     },
     "execution_count": 169,
     "metadata": {},
     "output_type": "execute_result"
    }
   ],
   "source": [
    "# Hint: If you are getting 47 as your answer, you might be computing the biggest change \n",
    "# rather than the biggest decrease!\n",
    "biggest_increase == 47"
   ]
  },
  {
   "cell_type": "code",
   "execution_count": 170,
   "id": "68b80519",
   "metadata": {
    "execution": {
     "iopub.execute_input": "2022-01-27T05:12:44.727920Z",
     "iopub.status.busy": "2022-01-27T05:12:44.727240Z",
     "iopub.status.idle": "2022-01-27T05:12:44.731632Z",
     "shell.execute_reply": "2022-01-27T05:12:44.731025Z"
    }
   },
   "outputs": [
    {
     "data": {
      "text/plain": [
       "True"
      ]
     },
     "execution_count": 170,
     "metadata": {},
     "output_type": "execute_result"
    }
   ],
   "source": [
    "# Hint: biggest decrease is above 30, but not 47.\n",
    "30 <= biggest_increase < 49"
   ]
  },
  {
   "cell_type": "code",
   "execution_count": 171,
   "id": "64ec13a8",
   "metadata": {
    "execution": {
     "iopub.execute_input": "2022-01-27T05:12:44.736952Z",
     "iopub.status.busy": "2022-01-27T05:12:44.736283Z",
     "iopub.status.idle": "2022-01-27T05:12:44.740759Z",
     "shell.execute_reply": "2022-01-27T05:12:44.739909Z"
    }
   },
   "outputs": [
    {
     "data": {
      "text/plain": [
       "47"
      ]
     },
     "execution_count": 171,
     "metadata": {},
     "output_type": "execute_result"
    }
   ],
   "source": [
    "# HIDDEN\n",
    "biggest_increase"
   ]
  },
  {
   "cell_type": "raw",
   "id": "7bff1bf4",
   "metadata": {},
   "source": [
    "# END TESTS"
   ]
  },
  {
   "cell_type": "raw",
   "id": "8762f009",
   "metadata": {},
   "source": [
    "# END QUESTION"
   ]
  },
  {
   "cell_type": "raw",
   "id": "990c63ae",
   "metadata": {},
   "source": [
    "# BEGIN QUESTION\n",
    "name: q4_3\n",
    "points:\n",
    " - 0\n",
    " - 4"
   ]
  },
  {
   "cell_type": "markdown",
   "id": "141766c5",
   "metadata": {},
   "source": [
    "**Question 3.** The `faithful_with_eruption_nums` table contains two columns: `eruption_number`, which represents the number of that eruption, and `waiting`, which represents the time spent waiting after that eruption. For example, take the first two rows of the table:\n",
    "\n",
    "| eruption number | waiting |\n",
    "|-----------------|---------|\n",
    "| 1               | 79      |\n",
    "| 2               | 54      |\n",
    "\n",
    "We can read this as follows: after the first eruption, we waited 79 minutes for the second eruption. Then, after the second eruption, we waited 54 minutes for the third eruption.\n",
    "\n",
    "Suppose Yuji and Megumi started watching Old Faithful at the start of the first eruption. Assume that they watch until the end of the seventh eruption. For some of that time they will be watching eruptions, and for the rest of the time they will be waiting for Old Faithful to erupt. How many minutes will they spend on average waiting between eruptions? **(4 Points)**\n",
    "\n",
    "*Hint #1:* One way to approach this problem is to use the `take` or `where` method on the table `faithful_with_eruption_nums`. \n",
    "\n",
    "*Hint #2:* `first_six_waiting_times` must be an array.\n"
   ]
  },
  {
   "cell_type": "raw",
   "id": "c9c90ceb",
   "metadata": {},
   "source": [
    "# BEGIN SOLUTION"
   ]
  },
  {
   "cell_type": "code",
   "execution_count": 172,
   "id": "bb5e224f",
   "metadata": {
    "execution": {
     "iopub.execute_input": "2022-01-27T05:12:44.748589Z",
     "iopub.status.busy": "2022-01-27T05:12:44.747995Z",
     "iopub.status.idle": "2022-01-27T05:12:44.756387Z",
     "shell.execute_reply": "2022-01-27T05:12:44.755777Z"
    }
   },
   "outputs": [
    {
     "data": {
      "text/plain": [
       "68.166666666666671"
      ]
     },
     "execution_count": 172,
     "metadata": {},
     "output_type": "execute_result"
    }
   ],
   "source": [
    "# The following two lines load in our faithful_with_eruption_nums table\n",
    "faithful = Table.read_table('old_faithful.csv').drop(\"eruptions\")\n",
    "faithful_with_eruption_nums = faithful.with_column(\"eruption number\", np.arange(faithful.num_rows) + 1).select(1, 0)\n",
    "\n",
    "first_six_waiting_times = faithful_with_eruption_nums.where(\"eruption number\", are.below(7)).column(\"waiting\") # SOLUTION\n",
    "total_waiting_time_until_seventh = np.average(first_six_waiting_times) # SOLUTION\n",
    "total_waiting_time_until_seventh"
   ]
  },
  {
   "cell_type": "raw",
   "id": "4e65581a",
   "metadata": {},
   "source": [
    "# END SOLUTION"
   ]
  },
  {
   "cell_type": "raw",
   "id": "34066a3c",
   "metadata": {},
   "source": [
    "# BEGIN TESTS"
   ]
  },
  {
   "cell_type": "code",
   "execution_count": 173,
   "id": "2127ca0a",
   "metadata": {
    "execution": {
     "iopub.execute_input": "2022-01-27T05:12:44.761378Z",
     "iopub.status.busy": "2022-01-27T05:12:44.760819Z",
     "iopub.status.idle": "2022-01-27T05:12:44.764570Z",
     "shell.execute_reply": "2022-01-27T05:12:44.764976Z"
    }
   },
   "outputs": [
    {
     "data": {
      "text/plain": [
       "6"
      ]
     },
     "execution_count": 173,
     "metadata": {},
     "output_type": "execute_result"
    }
   ],
   "source": [
    "len(first_six_waiting_times)"
   ]
  },
  {
   "cell_type": "code",
   "execution_count": 174,
   "id": "68fd5d55",
   "metadata": {
    "execution": {
     "iopub.execute_input": "2022-01-27T05:12:44.769502Z",
     "iopub.status.busy": "2022-01-27T05:12:44.768952Z",
     "iopub.status.idle": "2022-01-27T05:12:44.773475Z",
     "shell.execute_reply": "2022-01-27T05:12:44.772863Z"
    }
   },
   "outputs": [
    {
     "data": {
      "text/plain": [
       "68.166666666666671"
      ]
     },
     "execution_count": 174,
     "metadata": {},
     "output_type": "execute_result"
    }
   ],
   "source": [
    "total_waiting_time_until_seventh"
   ]
  },
  {
   "cell_type": "raw",
   "id": "fd0564e4",
   "metadata": {},
   "source": [
    "# END TESTS"
   ]
  },
  {
   "cell_type": "raw",
   "id": "bfade954",
   "metadata": {},
   "source": [
    "# END QUESTION"
   ]
  },
  {
   "cell_type": "raw",
   "id": "d23be508",
   "metadata": {},
   "source": [
    "# BEGIN QUESTION\n",
    "name: q4_4\n",
    "points:\n",
    " - 0\n",
    " - 4"
   ]
  },
  {
   "cell_type": "markdown",
   "id": "af953ab7",
   "metadata": {},
   "source": [
    "**Question 4.** Let’s imagine your guess for the next waiting time was always just the length of the previous waiting time. If you always guessed the previous waiting time, how big would your error in guessing the waiting times be, on average? **(4 Points)**\n",
    "\n",
    "For example, since the first four waiting times are 79, 54, 74, and 62, the average difference between your guess and the actual time for just the second, third, and fourth eruptions would be $\\frac{|79-54|+ |54-74|+ |74-62|}{3} = 19$.\n"
   ]
  },
  {
   "cell_type": "raw",
   "id": "24d17db5",
   "metadata": {},
   "source": [
    "# BEGIN SOLUTION"
   ]
  },
  {
   "cell_type": "code",
   "execution_count": 175,
   "id": "1ba07aa0",
   "metadata": {
    "execution": {
     "iopub.execute_input": "2022-01-27T05:12:44.779676Z",
     "iopub.status.busy": "2022-01-27T05:12:44.779055Z",
     "iopub.status.idle": "2022-01-27T05:12:44.783450Z",
     "shell.execute_reply": "2022-01-27T05:12:44.782826Z"
    }
   },
   "outputs": [
    {
     "data": {
      "text/plain": [
       "20.520295202952031"
      ]
     },
     "execution_count": 175,
     "metadata": {},
     "output_type": "execute_result"
    }
   ],
   "source": [
    "differences = np.diff(waiting_times)\n",
    "average_error = np.average(abs(differences)) # SOLUTION\n",
    "average_error"
   ]
  },
  {
   "cell_type": "raw",
   "id": "d3536c73",
   "metadata": {},
   "source": [
    "# END SOLUTION"
   ]
  },
  {
   "cell_type": "raw",
   "id": "ff381425",
   "metadata": {},
   "source": [
    "# BEGIN TESTS"
   ]
  },
  {
   "cell_type": "code",
   "execution_count": 176,
   "id": "bac6c221",
   "metadata": {
    "deletable": false,
    "execution": {
     "iopub.execute_input": "2022-01-27T05:12:44.789923Z",
     "iopub.status.busy": "2022-01-27T05:12:44.789037Z",
     "iopub.status.idle": "2022-01-27T05:12:44.793981Z",
     "shell.execute_reply": "2022-01-27T05:12:44.793477Z"
    }
   },
   "outputs": [
    {
     "data": {
      "text/plain": [
       "True"
      ]
     },
     "execution_count": 176,
     "metadata": {},
     "output_type": "execute_result"
    }
   ],
   "source": [
    "15 <= average_error <= 25"
   ]
  },
  {
   "cell_type": "code",
   "execution_count": 177,
   "id": "807a7327",
   "metadata": {
    "execution": {
     "iopub.execute_input": "2022-01-27T05:12:44.833120Z",
     "iopub.status.busy": "2022-01-27T05:12:44.832277Z",
     "iopub.status.idle": "2022-01-27T05:12:44.835685Z",
     "shell.execute_reply": "2022-01-27T05:12:44.836177Z"
    }
   },
   "outputs": [
    {
     "data": {
      "text/plain": [
       "True"
      ]
     },
     "execution_count": 177,
     "metadata": {},
     "output_type": "execute_result"
    }
   ],
   "source": [
    "# HIDDEN\n",
    "np.isclose(average_error, 20.520295202952031)"
   ]
  },
  {
   "cell_type": "raw",
   "id": "025ada34",
   "metadata": {},
   "source": [
    "# END TESTS"
   ]
  },
  {
   "cell_type": "raw",
   "id": "8116e70c",
   "metadata": {},
   "source": [
    "# END QUESTION"
   ]
  },
  {
   "cell_type": "markdown",
   "id": "589fc817",
   "metadata": {},
   "source": [
    "## 5. Tables"
   ]
  },
  {
   "cell_type": "raw",
   "id": "42306421",
   "metadata": {},
   "source": [
    "# BEGIN QUESTION\n",
    "name: q5_1\n",
    "points:\n",
    " - 4"
   ]
  },
  {
   "cell_type": "markdown",
   "id": "2e4224a5",
   "metadata": {},
   "source": [
    "**Question 1.** Create a table that illustrates that you have 12 bananas, 9 pineapples, and 6 peaches(Perhaps you're using Python to create a grocery list).  It should have two columns: `fruit` and `quantity`.  Assign the new table to the variable `grocery_fruits`. **(4 Points)**\n",
    "\n",
    "*Note:* Use lower-case and singular words for the name of each fruit, like `\"bananas\"`.\n"
   ]
  },
  {
   "cell_type": "markdown",
   "id": "9c0a6c9c",
   "metadata": {},
   "source": []
  },
  {
   "cell_type": "raw",
   "id": "66878539",
   "metadata": {},
   "source": [
    "# BEGIN SOLUTION"
   ]
  },
  {
   "cell_type": "code",
   "execution_count": 178,
   "id": "05e641a3",
   "metadata": {
    "execution": {
     "iopub.execute_input": "2022-01-27T05:12:44.843208Z",
     "iopub.status.busy": "2022-01-27T05:12:44.842392Z",
     "iopub.status.idle": "2022-01-27T05:12:44.846572Z",
     "shell.execute_reply": "2022-01-27T05:12:44.845943Z"
    }
   },
   "outputs": [
    {
     "data": {
      "text/html": [
       "<table border=\"1\" class=\"dataframe\">\n",
       "    <thead>\n",
       "        <tr>\n",
       "            <th>fruit</th> <th>quantity</th>\n",
       "        </tr>\n",
       "    </thead>\n",
       "    <tbody>\n",
       "        <tr>\n",
       "            <td>banana   </td> <td>12      </td>\n",
       "        </tr>\n",
       "        <tr>\n",
       "            <td>pineapple</td> <td>9       </td>\n",
       "        </tr>\n",
       "        <tr>\n",
       "            <td>peach    </td> <td>6       </td>\n",
       "        </tr>\n",
       "    </tbody>\n",
       "</table>"
      ],
      "text/plain": [
       "fruit     | quantity\n",
       "banana    | 12\n",
       "pineapple | 9\n",
       "peach     | 6"
      ]
     },
     "execution_count": 178,
     "metadata": {},
     "output_type": "execute_result"
    }
   ],
   "source": [
    "# Our solution uses 1 statement split over 3 lines.\n",
    "grocery_fruits = Table().with_columns( #SOLUTION\n",
    "        \"fruit\", make_array(\"banana\", \"pineapple\", \"peach\"), #SOLUTION\n",
    "        \"quantity\",      make_array(12,       9,        6)) #SOLUTION\n",
    "grocery_fruits"
   ]
  },
  {
   "cell_type": "raw",
   "id": "ff87d143",
   "metadata": {},
   "source": [
    "# END SOLUTION"
   ]
  },
  {
   "cell_type": "raw",
   "id": "d5f52b70",
   "metadata": {},
   "source": [
    "# BEGIN TESTS"
   ]
  },
  {
   "cell_type": "code",
   "execution_count": 179,
   "id": "5bd670bd",
   "metadata": {
    "deletable": false,
    "execution": {
     "iopub.execute_input": "2022-01-27T05:12:44.852825Z",
     "iopub.status.busy": "2022-01-27T05:12:44.851958Z",
     "iopub.status.idle": "2022-01-27T05:12:44.856435Z",
     "shell.execute_reply": "2022-01-27T05:12:44.855927Z"
    }
   },
   "outputs": [
    {
     "data": {
      "text/html": [
       "<table border=\"1\" class=\"dataframe\">\n",
       "    <thead>\n",
       "        <tr>\n",
       "            <th>fruit</th> <th>quantity</th>\n",
       "        </tr>\n",
       "    </thead>\n",
       "    <tbody>\n",
       "        <tr>\n",
       "            <td>banana   </td> <td>12      </td>\n",
       "        </tr>\n",
       "        <tr>\n",
       "            <td>peach    </td> <td>6       </td>\n",
       "        </tr>\n",
       "        <tr>\n",
       "            <td>pineapple</td> <td>9       </td>\n",
       "        </tr>\n",
       "    </tbody>\n",
       "</table>"
      ],
      "text/plain": [
       "fruit     | quantity\n",
       "banana    | 12\n",
       "peach     | 6\n",
       "pineapple | 9"
      ]
     },
     "execution_count": 179,
     "metadata": {},
     "output_type": "execute_result"
    }
   ],
   "source": [
    "grocery_fruits.sort(0)"
   ]
  },
  {
   "cell_type": "raw",
   "id": "05a87c94",
   "metadata": {},
   "source": [
    "# END TESTS"
   ]
  },
  {
   "cell_type": "raw",
   "id": "999a0537",
   "metadata": {},
   "source": [
    "# END QUESTION"
   ]
  },
  {
   "cell_type": "raw",
   "id": "a91d5ec4",
   "metadata": {},
   "source": [
    "# BEGIN QUESTION\n",
    "name: q5_2\n",
    "points:\n",
    " - 4"
   ]
  },
  {
   "cell_type": "markdown",
   "id": "b7ff8fcf",
   "metadata": {},
   "source": [
    "**Question 2.** The file `inventory.csv` contains information about the inventory of fruit at a grocery store.  Each row represents the contents of one box of fruit. Load it as a table named `fruit_inventory` using the `Table.read_table()` function. `Table.read_table(...)` takes one argument (data file name in string format) and returns a table. **(4 Points)**\n"
   ]
  },
  {
   "cell_type": "raw",
   "id": "276d6dbb",
   "metadata": {},
   "source": [
    "# BEGIN SOLUTION"
   ]
  },
  {
   "cell_type": "code",
   "execution_count": 180,
   "id": "b96919a5",
   "metadata": {
    "execution": {
     "iopub.execute_input": "2022-01-27T05:12:44.861185Z",
     "iopub.status.busy": "2022-01-27T05:12:44.860639Z",
     "iopub.status.idle": "2022-01-27T05:12:44.871294Z",
     "shell.execute_reply": "2022-01-27T05:12:44.870723Z"
    }
   },
   "outputs": [
    {
     "data": {
      "text/html": [
       "<table border=\"1\" class=\"dataframe\">\n",
       "    <thead>\n",
       "        <tr>\n",
       "            <th>box ID</th> <th>fruit name</th> <th>count</th>\n",
       "        </tr>\n",
       "    </thead>\n",
       "    <tbody>\n",
       "        <tr>\n",
       "            <td>53686 </td> <td>kiwi      </td> <td>45   </td>\n",
       "        </tr>\n",
       "        <tr>\n",
       "            <td>57181 </td> <td>strawberry</td> <td>123  </td>\n",
       "        </tr>\n",
       "        <tr>\n",
       "            <td>25274 </td> <td>apple     </td> <td>20   </td>\n",
       "        </tr>\n",
       "        <tr>\n",
       "            <td>48800 </td> <td>orange    </td> <td>35   </td>\n",
       "        </tr>\n",
       "        <tr>\n",
       "            <td>26187 </td> <td>strawberry</td> <td>255  </td>\n",
       "        </tr>\n",
       "        <tr>\n",
       "            <td>57930 </td> <td>grape     </td> <td>517  </td>\n",
       "        </tr>\n",
       "        <tr>\n",
       "            <td>52357 </td> <td>strawberry</td> <td>102  </td>\n",
       "        </tr>\n",
       "        <tr>\n",
       "            <td>43566 </td> <td>peach     </td> <td>40   </td>\n",
       "        </tr>\n",
       "    </tbody>\n",
       "</table>"
      ],
      "text/plain": [
       "box ID | fruit name | count\n",
       "53686  | kiwi       | 45\n",
       "57181  | strawberry | 123\n",
       "25274  | apple      | 20\n",
       "48800  | orange     | 35\n",
       "26187  | strawberry | 255\n",
       "57930  | grape      | 517\n",
       "52357  | strawberry | 102\n",
       "43566  | peach      | 40"
      ]
     },
     "execution_count": 180,
     "metadata": {},
     "output_type": "execute_result"
    }
   ],
   "source": [
    "fruit_inventory = Table.read_table(\"inventory.csv\") #SOLUTION\n",
    "fruit_inventory"
   ]
  },
  {
   "cell_type": "raw",
   "id": "e7795d8c",
   "metadata": {},
   "source": [
    "# END SOLUTION"
   ]
  },
  {
   "cell_type": "raw",
   "id": "b97019cb",
   "metadata": {},
   "source": [
    "# BEGIN TESTS"
   ]
  },
  {
   "cell_type": "code",
   "execution_count": 181,
   "id": "93b53717",
   "metadata": {
    "deletable": false,
    "execution": {
     "iopub.execute_input": "2022-01-27T05:12:44.876553Z",
     "iopub.status.busy": "2022-01-27T05:12:44.875756Z",
     "iopub.status.idle": "2022-01-27T05:12:44.881458Z",
     "shell.execute_reply": "2022-01-27T05:12:44.880929Z"
    }
   },
   "outputs": [
    {
     "data": {
      "text/plain": [
       "25274"
      ]
     },
     "execution_count": 181,
     "metadata": {},
     "output_type": "execute_result"
    }
   ],
   "source": [
    "fruit_inventory.sort(0).column(0).item(0)"
   ]
  },
  {
   "cell_type": "raw",
   "id": "0572ec1b",
   "metadata": {},
   "source": [
    "# END TESTS"
   ]
  },
  {
   "cell_type": "raw",
   "id": "530b6bfe",
   "metadata": {},
   "source": [
    "# END QUESTION"
   ]
  },
  {
   "cell_type": "raw",
   "id": "deb641bd",
   "metadata": {},
   "source": [
    "# BEGIN QUESTION\n",
    "name: q5_3\n",
    "points:\n",
    " - 0\n",
    " - 4"
   ]
  },
  {
   "cell_type": "markdown",
   "id": "1fa9ac06",
   "metadata": {},
   "source": [
    "**Question 3.** Does strawberry appear more than three times in the `fruit_inventory` table? Set `straw_three_times` to `True` if strawberry appear more than three times or to `False` if it does not. **(4 Points)**\n",
    "\n",
    "*Hint:* You don't have to write code to calculate the True/False value for `straw_three_times`. Just look at the `fruit_inventory` table and assign `straw_three_times` to either `True` or `False` according to what you can see from the table in answering the question.\n"
   ]
  },
  {
   "cell_type": "raw",
   "id": "445576a6",
   "metadata": {},
   "source": [
    "# BEGIN SOLUTION"
   ]
  },
  {
   "cell_type": "code",
   "execution_count": 182,
   "id": "afe3f900",
   "metadata": {
    "execution": {
     "iopub.execute_input": "2022-01-27T05:12:44.887693Z",
     "iopub.status.busy": "2022-01-27T05:12:44.886708Z",
     "iopub.status.idle": "2022-01-27T05:12:44.928420Z",
     "shell.execute_reply": "2022-01-27T05:12:44.928882Z"
    }
   },
   "outputs": [
    {
     "data": {
      "text/plain": [
       "False"
      ]
     },
     "execution_count": 182,
     "metadata": {},
     "output_type": "execute_result"
    }
   ],
   "source": [
    "straw_three_times = False #SOLUTION\n",
    "straw_three_times"
   ]
  },
  {
   "cell_type": "raw",
   "id": "3c796c7e",
   "metadata": {},
   "source": [
    "# END SOLUTION"
   ]
  },
  {
   "cell_type": "raw",
   "id": "eda85c10",
   "metadata": {},
   "source": [
    "# BEGIN TESTS"
   ]
  },
  {
   "cell_type": "code",
   "execution_count": 183,
   "id": "86664e39",
   "metadata": {
    "deletable": false,
    "execution": {
     "iopub.execute_input": "2022-01-27T05:12:44.935003Z",
     "iopub.status.busy": "2022-01-27T05:12:44.934131Z",
     "iopub.status.idle": "2022-01-27T05:12:44.938234Z",
     "shell.execute_reply": "2022-01-27T05:12:44.937672Z"
    }
   },
   "outputs": [
    {
     "data": {
      "text/plain": [
       "True"
      ]
     },
     "execution_count": 183,
     "metadata": {},
     "output_type": "execute_result"
    }
   ],
   "source": [
    "straw_three_times in {True, False}"
   ]
  },
  {
   "cell_type": "code",
   "execution_count": 184,
   "id": "18386b9e",
   "metadata": {
    "execution": {
     "iopub.execute_input": "2022-01-27T05:12:44.943709Z",
     "iopub.status.busy": "2022-01-27T05:12:44.942886Z",
     "iopub.status.idle": "2022-01-27T05:12:44.946439Z",
     "shell.execute_reply": "2022-01-27T05:12:44.946904Z"
    }
   },
   "outputs": [
    {
     "data": {
      "text/plain": [
       "True"
      ]
     },
     "execution_count": 184,
     "metadata": {},
     "output_type": "execute_result"
    }
   ],
   "source": [
    "# HIDDEN\n",
    "straw_three_times == False"
   ]
  },
  {
   "cell_type": "raw",
   "id": "ceb512a5",
   "metadata": {},
   "source": [
    "# END TESTS"
   ]
  },
  {
   "cell_type": "raw",
   "id": "4b57b90e",
   "metadata": {},
   "source": [
    "# END QUESTION"
   ]
  },
  {
   "cell_type": "raw",
   "id": "2e37aece",
   "metadata": {},
   "source": [
    "# BEGIN QUESTION\n",
    "name: q5_4\n",
    "points:\n",
    " - 5"
   ]
  },
  {
   "cell_type": "markdown",
   "id": "c9dc0daa",
   "metadata": {},
   "source": [
    "**Question 4.** The file `sales.csv` contains the number of fruit sold from each box last Saturday.  It has an extra column called `price per fruit ($)` that's the price *per item of fruit* for fruit in that box.  The rows are in the same order as the `fruit_inventory` table.  Load these data into a table called `sales`. **(5 Points)**\n"
   ]
  },
  {
   "cell_type": "raw",
   "id": "61c2f93d",
   "metadata": {},
   "source": [
    "# BEGIN SOLUTION"
   ]
  },
  {
   "cell_type": "code",
   "execution_count": 185,
   "id": "34af9b41",
   "metadata": {
    "execution": {
     "iopub.execute_input": "2022-01-27T05:12:44.952160Z",
     "iopub.status.busy": "2022-01-27T05:12:44.951367Z",
     "iopub.status.idle": "2022-01-27T05:12:44.960652Z",
     "shell.execute_reply": "2022-01-27T05:12:44.961159Z"
    }
   },
   "outputs": [
    {
     "data": {
      "text/html": [
       "<table border=\"1\" class=\"dataframe\">\n",
       "    <thead>\n",
       "        <tr>\n",
       "            <th>box ID</th> <th>fruit name</th> <th>count sold</th> <th>price per fruit ($)</th>\n",
       "        </tr>\n",
       "    </thead>\n",
       "    <tbody>\n",
       "        <tr>\n",
       "            <td>53686 </td> <td>kiwi      </td> <td>3         </td> <td>0.5                </td>\n",
       "        </tr>\n",
       "        <tr>\n",
       "            <td>57181 </td> <td>strawberry</td> <td>101       </td> <td>0.2                </td>\n",
       "        </tr>\n",
       "        <tr>\n",
       "            <td>25274 </td> <td>apple     </td> <td>0         </td> <td>0.8                </td>\n",
       "        </tr>\n",
       "        <tr>\n",
       "            <td>48800 </td> <td>orange    </td> <td>35        </td> <td>0.6                </td>\n",
       "        </tr>\n",
       "        <tr>\n",
       "            <td>26187 </td> <td>strawberry</td> <td>25        </td> <td>0.15               </td>\n",
       "        </tr>\n",
       "        <tr>\n",
       "            <td>57930 </td> <td>grape     </td> <td>355       </td> <td>0.06               </td>\n",
       "        </tr>\n",
       "        <tr>\n",
       "            <td>52357 </td> <td>strawberry</td> <td>102       </td> <td>0.25               </td>\n",
       "        </tr>\n",
       "        <tr>\n",
       "            <td>43566 </td> <td>peach     </td> <td>17        </td> <td>0.8                </td>\n",
       "        </tr>\n",
       "    </tbody>\n",
       "</table>"
      ],
      "text/plain": [
       "box ID | fruit name | count sold | price per fruit ($)\n",
       "53686  | kiwi       | 3          | 0.5\n",
       "57181  | strawberry | 101        | 0.2\n",
       "25274  | apple      | 0          | 0.8\n",
       "48800  | orange     | 35         | 0.6\n",
       "26187  | strawberry | 25         | 0.15\n",
       "57930  | grape      | 355        | 0.06\n",
       "52357  | strawberry | 102        | 0.25\n",
       "43566  | peach      | 17         | 0.8"
      ]
     },
     "execution_count": 185,
     "metadata": {},
     "output_type": "execute_result"
    }
   ],
   "source": [
    "sales = Table.read_table(\"sales.csv\") #SOLUTION\n",
    "sales"
   ]
  },
  {
   "cell_type": "raw",
   "id": "df661137",
   "metadata": {},
   "source": [
    "# END SOLUTION"
   ]
  },
  {
   "cell_type": "raw",
   "id": "b381afc8",
   "metadata": {},
   "source": [
    "# BEGIN TESTS"
   ]
  },
  {
   "cell_type": "code",
   "execution_count": 186,
   "id": "ef656a56",
   "metadata": {
    "deletable": false,
    "execution": {
     "iopub.execute_input": "2022-01-27T05:12:44.967686Z",
     "iopub.status.busy": "2022-01-27T05:12:44.966839Z",
     "iopub.status.idle": "2022-01-27T05:12:44.970590Z",
     "shell.execute_reply": "2022-01-27T05:12:44.970019Z"
    }
   },
   "outputs": [
    {
     "data": {
      "text/html": [
       "<table border=\"1\" class=\"dataframe\">\n",
       "    <thead>\n",
       "        <tr>\n",
       "            <th>box ID</th> <th>fruit name</th> <th>count sold</th> <th>price per fruit ($)</th>\n",
       "        </tr>\n",
       "    </thead>\n",
       "    <tbody>\n",
       "        <tr>\n",
       "            <td>25274 </td> <td>apple     </td> <td>0         </td> <td>0.8                </td>\n",
       "        </tr>\n",
       "        <tr>\n",
       "            <td>26187 </td> <td>strawberry</td> <td>25        </td> <td>0.15               </td>\n",
       "        </tr>\n",
       "        <tr>\n",
       "            <td>43566 </td> <td>peach     </td> <td>17        </td> <td>0.8                </td>\n",
       "        </tr>\n",
       "        <tr>\n",
       "            <td>48800 </td> <td>orange    </td> <td>35        </td> <td>0.6                </td>\n",
       "        </tr>\n",
       "        <tr>\n",
       "            <td>52357 </td> <td>strawberry</td> <td>102       </td> <td>0.25               </td>\n",
       "        </tr>\n",
       "        <tr>\n",
       "            <td>53686 </td> <td>kiwi      </td> <td>3         </td> <td>0.5                </td>\n",
       "        </tr>\n",
       "        <tr>\n",
       "            <td>57181 </td> <td>strawberry</td> <td>101       </td> <td>0.2                </td>\n",
       "        </tr>\n",
       "        <tr>\n",
       "            <td>57930 </td> <td>grape     </td> <td>355       </td> <td>0.06               </td>\n",
       "        </tr>\n",
       "    </tbody>\n",
       "</table>"
      ],
      "text/plain": [
       "box ID | fruit name | count sold | price per fruit ($)\n",
       "25274  | apple      | 0          | 0.8\n",
       "26187  | strawberry | 25         | 0.15\n",
       "43566  | peach      | 17         | 0.8\n",
       "48800  | orange     | 35         | 0.6\n",
       "52357  | strawberry | 102        | 0.25\n",
       "53686  | kiwi       | 3          | 0.5\n",
       "57181  | strawberry | 101        | 0.2\n",
       "57930  | grape      | 355        | 0.06"
      ]
     },
     "execution_count": 186,
     "metadata": {},
     "output_type": "execute_result"
    }
   ],
   "source": [
    "sales.sort(0)"
   ]
  },
  {
   "cell_type": "raw",
   "id": "653e7706",
   "metadata": {},
   "source": [
    "# END TESTS"
   ]
  },
  {
   "cell_type": "raw",
   "id": "a3f08eec",
   "metadata": {},
   "source": [
    "# END QUESTION"
   ]
  },
  {
   "cell_type": "raw",
   "id": "24f65407",
   "metadata": {},
   "source": [
    "# BEGIN QUESTION\n",
    "name: q5_5\n",
    "points:\n",
    " - 0\n",
    " - 5"
   ]
  },
  {
   "cell_type": "markdown",
   "id": "4cb9beeb",
   "metadata": {},
   "source": [
    "**Question 5.** How many strawberries did the store sell in total on that day? **(5 Points)**\n"
   ]
  },
  {
   "cell_type": "raw",
   "id": "5b052a7e",
   "metadata": {},
   "source": [
    "# BEGIN SOLUTION"
   ]
  },
  {
   "cell_type": "code",
   "execution_count": 187,
   "id": "8866b983",
   "metadata": {
    "execution": {
     "iopub.execute_input": "2022-01-27T05:12:44.976215Z",
     "iopub.status.busy": "2022-01-27T05:12:44.975584Z",
     "iopub.status.idle": "2022-01-27T05:12:44.979498Z",
     "shell.execute_reply": "2022-01-27T05:12:44.978966Z"
    }
   },
   "outputs": [
    {
     "data": {
      "text/plain": [
       "228"
      ]
     },
     "execution_count": 187,
     "metadata": {},
     "output_type": "execute_result"
    }
   ],
   "source": [
    "strawberry_sold = sum(sales.where(\"fruit name\", \"strawberry\").column(\"count sold\")) #SOLUTION\n",
    "strawberry_sold"
   ]
  },
  {
   "cell_type": "raw",
   "id": "dec8f3c2",
   "metadata": {},
   "source": [
    "# END SOLUTION"
   ]
  },
  {
   "cell_type": "raw",
   "id": "d6313409",
   "metadata": {},
   "source": [
    "# BEGIN TESTS"
   ]
  },
  {
   "cell_type": "code",
   "execution_count": 188,
   "id": "7dde4a62",
   "metadata": {
    "deletable": false,
    "execution": {
     "iopub.execute_input": "2022-01-27T05:12:44.984525Z",
     "iopub.status.busy": "2022-01-27T05:12:44.983915Z",
     "iopub.status.idle": "2022-01-27T05:12:44.988422Z",
     "shell.execute_reply": "2022-01-27T05:12:44.987920Z"
    }
   },
   "outputs": [
    {
     "data": {
      "text/plain": [
       "True"
      ]
     },
     "execution_count": 188,
     "metadata": {},
     "output_type": "execute_result"
    }
   ],
   "source": [
    "# We're asking for the number of strawberries, not the\n",
    "# total number of fruit or the number of boxes from which\n",
    "# there were sales.\n",
    "strawberry_sold > 10"
   ]
  },
  {
   "cell_type": "code",
   "execution_count": 189,
   "id": "6f9fb5d0",
   "metadata": {
    "execution": {
     "iopub.execute_input": "2022-01-27T05:12:45.025943Z",
     "iopub.status.busy": "2022-01-27T05:12:44.992742Z",
     "iopub.status.idle": "2022-01-27T05:12:45.029925Z",
     "shell.execute_reply": "2022-01-27T05:12:45.029433Z"
    }
   },
   "outputs": [
    {
     "data": {
      "text/plain": [
       "228"
      ]
     },
     "execution_count": 189,
     "metadata": {},
     "output_type": "execute_result"
    }
   ],
   "source": [
    "# HIDDEN\n",
    "strawberry_sold"
   ]
  },
  {
   "cell_type": "raw",
   "id": "46c6842d",
   "metadata": {},
   "source": [
    "# END TESTS"
   ]
  },
  {
   "cell_type": "raw",
   "id": "857cd0c9",
   "metadata": {},
   "source": [
    "# END QUESTION"
   ]
  },
  {
   "cell_type": "raw",
   "id": "ba028b23",
   "metadata": {},
   "source": [
    "# BEGIN QUESTION\n",
    "name: q5_6\n",
    "points:\n",
    " - 0\n",
    " - 5"
   ]
  },
  {
   "cell_type": "markdown",
   "id": "f0894189",
   "metadata": {},
   "source": [
    "**Question 6.** What was the store's total strawberry revenue (the total price of all strawberries sold) on that day in DOLLARS? **(5 Points)**\n",
    "\n",
    "*Hint:* If you're stuck, think first about how you computed strawberry sales in previous problem. How might you used that code to form new code here?\n",
    "\n",
    "*Hint:* Round your answer to the nearest **dollar**."
   ]
  },
  {
   "cell_type": "raw",
   "id": "f448fe7e",
   "metadata": {},
   "source": [
    "# BEGIN SOLUTION"
   ]
  },
  {
   "cell_type": "code",
   "execution_count": 190,
   "id": "d6422d02",
   "metadata": {
    "execution": {
     "iopub.execute_input": "2022-01-27T05:12:45.035799Z",
     "iopub.status.busy": "2022-01-27T05:12:45.035091Z",
     "iopub.status.idle": "2022-01-27T05:12:45.039554Z",
     "shell.execute_reply": "2022-01-27T05:12:45.039012Z"
    }
   },
   "outputs": [
    {
     "data": {
      "text/plain": [
       "49"
      ]
     },
     "execution_count": 190,
     "metadata": {},
     "output_type": "execute_result"
    }
   ],
   "source": [
    "strw_total_revenue = (sum(sales.where(\"fruit name\", \"strawberry\").column(\"count sold\") * sales.where(\"fruit name\", \"strawberry\").column(\"price per fruit ($)\"))) #SOLUTION\n",
    "\n",
    "strawberry_total_revenue = round(strw_total_revenue)\n",
    "strawberry_total_revenue"
   ]
  },
  {
   "cell_type": "raw",
   "id": "5959ad7f",
   "metadata": {},
   "source": [
    "# END SOLUTION"
   ]
  },
  {
   "cell_type": "raw",
   "id": "5e407702",
   "metadata": {},
   "source": [
    "# BEGIN TESTS"
   ]
  },
  {
   "cell_type": "code",
   "execution_count": 191,
   "id": "3c75a3e5",
   "metadata": {
    "deletable": false,
    "execution": {
     "iopub.execute_input": "2022-01-27T05:12:45.045577Z",
     "iopub.status.busy": "2022-01-27T05:12:45.044443Z",
     "iopub.status.idle": "2022-01-27T05:12:45.049264Z",
     "shell.execute_reply": "2022-01-27T05:12:45.048816Z"
    }
   },
   "outputs": [
    {
     "data": {
      "text/plain": [
       "True"
      ]
     },
     "execution_count": 191,
     "metadata": {},
     "output_type": "execute_result"
    }
   ],
   "source": [
    "# If you're stuck, here's a hint: You want to multiply the count\n",
    "# sold in each box by the per-item price of fruits in that box.\n",
    "# You can use elementwise multiplication for that.\n",
    "# Then you want the sum of those products.  Use sum().\n",
    "45 <= strawberry_total_revenue <= 75"
   ]
  },
  {
   "cell_type": "code",
   "execution_count": 192,
   "id": "f5808b03",
   "metadata": {
    "execution": {
     "iopub.execute_input": "2022-01-27T05:12:45.055078Z",
     "iopub.status.busy": "2022-01-27T05:12:45.054127Z",
     "iopub.status.idle": "2022-01-27T05:12:45.057590Z",
     "shell.execute_reply": "2022-01-27T05:12:45.058028Z"
    }
   },
   "outputs": [
    {
     "data": {
      "text/plain": [
       "True"
      ]
     },
     "execution_count": 192,
     "metadata": {},
     "output_type": "execute_result"
    }
   ],
   "source": [
    "# HIDDEN\n",
    "np.isclose(strawberry_total_revenue, 49)"
   ]
  },
  {
   "cell_type": "raw",
   "id": "3503987b",
   "metadata": {},
   "source": [
    "# END TESTS"
   ]
  },
  {
   "cell_type": "raw",
   "id": "b02c57d0",
   "metadata": {},
   "source": [
    "# END QUESTION"
   ]
  },
  {
   "cell_type": "raw",
   "id": "4e253411",
   "metadata": {},
   "source": [
    "# BEGIN QUESTION\n",
    "name: q5_7\n",
    "points:\n",
    " - 0\n",
    " - 2\n",
    " - 3"
   ]
  },
  {
   "cell_type": "markdown",
   "id": "2ef3764d",
   "metadata": {},
   "source": [
    "*Question 7.** Make a new table called `remaining_straw_inventory`.  It should have the same rows and columns as `fruit_inventory`, except that the amount of strawberries sold from each box should be subtracted from that strawberries box's **original** count, so that the `count` column is **updated to be** the amount of strawberries remaining after Saturday. **(5 Points)**\n"
   ]
  },
  {
   "cell_type": "raw",
   "id": "565e37f2",
   "metadata": {},
   "source": [
    "# BEGIN SOLUTION"
   ]
  },
  {
   "cell_type": "code",
   "execution_count": 193,
   "id": "d9468f9a",
   "metadata": {
    "execution": {
     "iopub.execute_input": "2022-01-27T05:12:45.065342Z",
     "iopub.status.busy": "2022-01-27T05:12:45.064391Z",
     "iopub.status.idle": "2022-01-27T05:12:45.068707Z",
     "shell.execute_reply": "2022-01-27T05:12:45.068162Z"
    }
   },
   "outputs": [
    {
     "data": {
      "text/html": [
       "<table border=\"1\" class=\"dataframe\">\n",
       "    <thead>\n",
       "        <tr>\n",
       "            <th>box ID</th> <th>fruit name</th> <th>count</th>\n",
       "        </tr>\n",
       "    </thead>\n",
       "    <tbody>\n",
       "        <tr>\n",
       "            <td>57181 </td> <td>strawberry</td> <td>22   </td>\n",
       "        </tr>\n",
       "        <tr>\n",
       "            <td>26187 </td> <td>strawberry</td> <td>230  </td>\n",
       "        </tr>\n",
       "        <tr>\n",
       "            <td>52357 </td> <td>strawberry</td> <td>0    </td>\n",
       "        </tr>\n",
       "    </tbody>\n",
       "</table>"
      ],
      "text/plain": [
       "box ID | fruit name | count\n",
       "57181  | strawberry | 22\n",
       "26187  | strawberry | 230\n",
       "52357  | strawberry | 0"
      ]
     },
     "execution_count": 193,
     "metadata": {},
     "output_type": "execute_result"
    }
   ],
   "source": [
    "remaining_straw_inventory = Table().with_columns( #SOLUTION\n",
    "    \"box ID\", fruit_inventory.where(\"fruit name\", \"strawberry\").column(\"box ID\"), #SOLUTION\n",
    "    \"fruit name\", fruit_inventory.where(\"fruit name\", \"strawberry\").column(\"fruit name\"), #SOLUTION\n",
    "    \"count\", fruit_inventory.where(\"fruit name\", \"strawberry\").column(\"count\") - sales.where(\"fruit name\", \"strawberry\").column(\"count sold\")) #SOLUTION\n",
    "remaining_straw_inventory"
   ]
  },
  {
   "cell_type": "raw",
   "id": "04fa7c34",
   "metadata": {},
   "source": [
    "# END SOLUTION"
   ]
  },
  {
   "cell_type": "raw",
   "id": "27858339",
   "metadata": {},
   "source": [
    "# BEGIN TESTS"
   ]
  },
  {
   "cell_type": "code",
   "execution_count": 194,
   "id": "c043edf3",
   "metadata": {
    "deletable": false,
    "execution": {
     "iopub.execute_input": "2022-01-27T05:12:45.074408Z",
     "iopub.status.busy": "2022-01-27T05:12:45.073406Z",
     "iopub.status.idle": "2022-01-27T05:12:45.077181Z",
     "shell.execute_reply": "2022-01-27T05:12:45.077741Z"
    }
   },
   "outputs": [
    {
     "data": {
      "text/plain": [
       "3"
      ]
     },
     "execution_count": 194,
     "metadata": {},
     "output_type": "execute_result"
    }
   ],
   "source": [
    "# It looks like your table doesn't have all 3 columns that are\n",
    "# in the inventory table.\n",
    "remaining_straw_inventory.num_columns"
   ]
  },
  {
   "cell_type": "code",
   "execution_count": 195,
   "id": "c813c882",
   "metadata": {
    "execution": {
     "iopub.execute_input": "2022-01-27T05:12:45.084211Z",
     "iopub.status.busy": "2022-01-27T05:12:45.083613Z",
     "iopub.status.idle": "2022-01-27T05:12:45.088661Z",
     "shell.execute_reply": "2022-01-27T05:12:45.087964Z"
    }
   },
   "outputs": [
    {
     "data": {
      "text/plain": [
       "True"
      ]
     },
     "execution_count": 195,
     "metadata": {},
     "output_type": "execute_result"
    }
   ],
   "source": [
    "#It looks like you forgot to subtract off the sales.\n",
    "remaining_straw_inventory.column(\"count\").item(0) != 45"
   ]
  },
  {
   "cell_type": "code",
   "execution_count": 196,
   "id": "73bf7127",
   "metadata": {
    "execution": {
     "iopub.execute_input": "2022-01-27T05:12:45.129713Z",
     "iopub.status.busy": "2022-01-27T05:12:45.129130Z",
     "iopub.status.idle": "2022-01-27T05:12:45.133388Z",
     "shell.execute_reply": "2022-01-27T05:12:45.132812Z"
    },
    "scrolled": true
   },
   "outputs": [
    {
     "data": {
      "text/html": [
       "<table border=\"1\" class=\"dataframe\">\n",
       "    <thead>\n",
       "        <tr>\n",
       "            <th>box ID</th> <th>fruit name</th> <th>count</th>\n",
       "        </tr>\n",
       "    </thead>\n",
       "    <tbody>\n",
       "        <tr>\n",
       "            <td>57181 </td> <td>strawberry</td> <td>22   </td>\n",
       "        </tr>\n",
       "        <tr>\n",
       "            <td>26187 </td> <td>strawberry</td> <td>230  </td>\n",
       "        </tr>\n",
       "        <tr>\n",
       "            <td>52357 </td> <td>strawberry</td> <td>0    </td>\n",
       "        </tr>\n",
       "    </tbody>\n",
       "</table>"
      ],
      "text/plain": [
       "box ID | fruit name | count\n",
       "57181  | strawberry | 22\n",
       "26187  | strawberry | 230\n",
       "52357  | strawberry | 0"
      ]
     },
     "execution_count": 196,
     "metadata": {},
     "output_type": "execute_result"
    }
   ],
   "source": [
    "remaining_straw_inventory.where(1, 'strawberry')"
   ]
  },
  {
   "cell_type": "raw",
   "id": "91b3a72c",
   "metadata": {},
   "source": [
    "# END TESTS"
   ]
  },
  {
   "cell_type": "raw",
   "id": "281d8f7c",
   "metadata": {},
   "source": [
    "# END QUESTION"
   ]
  },
  {
   "cell_type": "markdown",
   "id": "3422e68e",
   "metadata": {},
   "source": [
    "You're done with Homework 2!  \n",
    "\n",
    "**Important submission steps:** \n",
    "1. Run the tests and verify that they all pass.\n",
    "2. Choose **Save Notebook** from the **File** menu, then **run the final cell**. \n",
    "3. Click the link to download the zip file.\n",
    "4. Then submit the zip file to the corresponding assignment according to your instructor's directions. \n",
    "\n",
    "**It is your responsibility to make sure your work is saved before running the last cell.**\n"
   ]
  },
  {
   "cell_type": "markdown",
   "id": "c38bb2e3",
   "metadata": {},
   "source": []
  },
  {
   "cell_type": "markdown",
   "id": "41114a2f",
   "metadata": {},
   "source": []
  }
 ],
 "metadata": {
  "kernelspec": {
   "display_name": "Python 3 (ipykernel)",
   "language": "python",
   "name": "python3"
  },
  "language_info": {
   "codemirror_mode": {
    "name": "ipython",
    "version": 3
   },
   "file_extension": ".py",
   "mimetype": "text/x-python",
   "name": "python",
   "nbconvert_exporter": "python",
   "pygments_lexer": "ipython3",
   "version": "3.11.6"
  }
 },
 "nbformat": 4,
 "nbformat_minor": 5
}
